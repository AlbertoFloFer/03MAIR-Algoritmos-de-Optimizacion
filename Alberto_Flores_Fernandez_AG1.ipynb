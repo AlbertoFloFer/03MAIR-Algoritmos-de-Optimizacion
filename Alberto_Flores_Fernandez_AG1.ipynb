{
  "nbformat": 4,
  "nbformat_minor": 0,
  "metadata": {
    "colab": {
      "name": "Alberto Flores Fernandez-AG1.ipynb",
      "provenance": [],
      "collapsed_sections": [
        "Rv4dZ0ijui2c",
        "YHg_3YRQvY4y",
        "TFxLd_r977Vr",
        "-xn0rvO8_Slf"
      ],
      "authorship_tag": "ABX9TyNqHtiabs2wn60+i9zC7b6b",
      "include_colab_link": true
    },
    "kernelspec": {
      "name": "python3",
      "display_name": "Python 3"
    }
  },
  "cells": [
    {
      "cell_type": "markdown",
      "metadata": {
        "id": "view-in-github",
        "colab_type": "text"
      },
      "source": [
        "<a href=\"https://colab.research.google.com/github/AlbertoFloFer/03MAIR-Algoritmos-de-Optimizacion/blob/main/Alberto_Flores_Fernandez_AG1.ipynb\" target=\"_parent\"><img src=\"https://colab.research.google.com/assets/colab-badge.svg\" alt=\"Open In Colab\"/></a>"
      ]
    },
    {
      "cell_type": "markdown",
      "metadata": {
        "id": "2u4_qVQosreq"
      },
      "source": [
        "#Actividad guidada 1. Algoritmos de optimización<br>\r\n",
        "### Nombre: Alberto Flores Fernández<br>\r\n",
        "URL: https://colab.research.google.com/drive/1gYutGFvr5RmLSteFY9Q5FmsNNiL_o8Ay?usp=sharing\r\n",
        "\r\n",
        "URL_ GitHub: https://github.com/AlbertoFloFer/03MAIR-Algoritmos-de-Optimizacion/tree/main/AG1"
      ]
    },
    {
      "cell_type": "markdown",
      "metadata": {
        "id": "Rv4dZ0ijui2c"
      },
      "source": [
        "##Detalle"
      ]
    },
    {
      "cell_type": "markdown",
      "metadata": {
        "id": "YHg_3YRQvY4y"
      },
      "source": [
        "##Torres de Hanoi con Divide y vencerás\r\n",
        " Utilizamos la recursividad como método que permite simplificar el código."
      ]
    },
    {
      "cell_type": "code",
      "metadata": {
        "colab": {
          "base_uri": "https://localhost:8080/"
        },
        "id": "xNWxIuDzxOPR",
        "outputId": "d7dbe1b9-53e1-43c2-b51c-037b4263f6a4"
      },
      "source": [
        "def Torres_Hanoi(N,desde,hasta):\r\n",
        "  if N == 1:\r\n",
        "    print(\"Llevar la ficha desde\", desde ,\"hasta\", hasta )\r\n",
        "  else: \r\n",
        "    Torres_Hanoi(N-1, desde, 6-desde-hasta ) #Recursividad con una ficha menos y movimiento a la torre pivote\r\n",
        "    print(\"Llevar la ficha desde\", desde ,\"hasta\", hasta) #1iter: La ficha más grande se queda abajo suelta y las otras 5 en el pivote 2\r\n",
        "    Torres_Hanoi(N-1, 6-desde-hasta, hasta) #Resolver el problema con 5 fichas desde el pivote hasta 3\r\n",
        "Torres_Hanoi(3,1,3)"
      ],
      "execution_count": null,
      "outputs": [
        {
          "output_type": "stream",
          "text": [
            "Llevar la ficha desde 1 hasta 3\n",
            "Llevar la ficha desde 1 hasta 2\n",
            "Llevar la ficha desde 3 hasta 2\n",
            "Llevar la ficha desde 1 hasta 3\n",
            "Llevar la ficha desde 2 hasta 1\n",
            "Llevar la ficha desde 2 hasta 3\n",
            "Llevar la ficha desde 1 hasta 3\n"
          ],
          "name": "stdout"
        }
      ]
    },
    {
      "cell_type": "markdown",
      "metadata": {
        "id": "TFxLd_r977Vr"
      },
      "source": [
        "##Devolución de cambio por técnica voraz"
      ]
    },
    {
      "cell_type": "code",
      "metadata": {
        "colab": {
          "base_uri": "https://localhost:8080/"
        },
        "id": "nzHUXa3A7_ht",
        "outputId": "7be3a7e6-80e4-42ed-8a77-72a8115d981b"
      },
      "source": [
        "import numpy as np\r\n",
        "\r\n",
        "def cambio_monedas(N, SM):\r\n",
        "  SM.sort(reverse=True)#Ordenar SM de mayor a menor\r\n",
        "  print(\"El sistema monetario utilizado es: \",SM)\r\n",
        "  SOLUCION = np.zeros(len(SM)) #Inicializar SOLUCION\r\n",
        "  ValorAcumulado = 0\r\n",
        "\r\n",
        "  for i, valor in enumerate(SM):\r\n",
        "    monedas = (N-ValorAcumulado)//valor #Necesito tantas monedas como el resto que me quede por dar (N-acumulado)\r\n",
        "    SOLUCION[i] = monedas # Solución parcial en cada devolución individual de monedas\r\n",
        "    ValorAcumulado += monedas*valor\r\n",
        "\r\n",
        "    if ValorAcumulado == N:\r\n",
        "      return print(\"El cambio de monedas viene definido por: \", SOLUCION)\r\n",
        "\r\n",
        "cambio_monedas(32,[25,10,5,1])\r\n"
      ],
      "execution_count": null,
      "outputs": [
        {
          "output_type": "stream",
          "text": [
            "El sistema monetario utilizado es:  [25, 10, 5, 1]\n",
            "El cambio de monedas viene definido por:  [1. 0. 1. 2.]\n"
          ],
          "name": "stdout"
        }
      ]
    },
    {
      "cell_type": "markdown",
      "metadata": {
        "id": "-xn0rvO8_Slf"
      },
      "source": [
        "##Problema de las  reinas"
      ]
    },
    {
      "cell_type": "code",
      "metadata": {
        "id": "qYn0Jel7_XQy",
        "colab": {
          "base_uri": "https://localhost:8080/"
        },
        "outputId": "b3d624dc-19f6-4a80-c8a3-af3754c9e477"
      },
      "source": [
        "def escribe(S):\r\n",
        "  n = len(S)\r\n",
        "  for x in range(n):\r\n",
        "    print(\"\")\r\n",
        "    for i in range(n):\r\n",
        "      if S[i] == x+1:\r\n",
        "        print(\" X \" , end=\"\")\r\n",
        "      else:\r\n",
        "        print(\" - \", end=\"\")\r\n",
        "\r\n",
        "def es_prometedora(SOLUCION,etapa):\r\n",
        "  #print(SOLUCION)\r\n",
        "  #Si la solución tiene dos valores iguales no es valida => Dos reinas en la misma fila\r\n",
        "  for i in range(etapa+1):\r\n",
        "    #print(\"El valor \" + str(SOLUCION[i]) + \" está \" +  str(SOLUCION.count(SOLUCION[i])) + \" veces\")\r\n",
        "    if SOLUCION.count(SOLUCION[i]) > 1:       \r\n",
        "      return False\r\n",
        "    #Verifica las diagonales\r\n",
        "    for j in range(i+1, etapa+1):\r\n",
        "      #print(\"Comprobando diagonal de \" + str(i) + \" y \" + str(j))\r\n",
        "      if abs(i-j) == abs(SOLUCION[i]-SOLUCION[j]) : return False\r\n",
        "  return True\r\n",
        "\r\n",
        "def reinas(N, solucion=[], etapa=0):\r\n",
        "  if len(solucion) == 0:\r\n",
        "    solucion=[0 for i in range(N)]\r\n",
        "  for i in range(1,N+1):\r\n",
        "    solucion[etapa] = i\r\n",
        "\r\n",
        "    if es_prometedora(solucion, etapa):\r\n",
        "      if etapa == N-1:\r\n",
        "        print(solucion)\r\n",
        "        escribe(solucion)\r\n",
        "        print(\"\\n\")\r\n",
        "      else:\r\n",
        "        reinas(N, solucion, etapa+1)\r\n",
        "    else:\r\n",
        "      None\r\n",
        "\r\n",
        "    solucion[etapa] = 0\r\n",
        "\r\n",
        "reinas(4)"
      ],
      "execution_count": null,
      "outputs": [
        {
          "output_type": "stream",
          "text": [
            "[2, 4, 1, 3]\n",
            "\n",
            " -  -  X  - \n",
            " X  -  -  - \n",
            " -  -  -  X \n",
            " -  X  -  - \n",
            "\n",
            "[3, 1, 4, 2]\n",
            "\n",
            " -  X  -  - \n",
            " -  -  -  X \n",
            " X  -  -  - \n",
            " -  -  X  - \n",
            "\n"
          ],
          "name": "stdout"
        }
      ]
    },
    {
      "cell_type": "markdown",
      "metadata": {
        "id": "Hffug7EGWjLF"
      },
      "source": [
        "## Práctica individual\r\n",
        "### 1. Encontrar los puntos más cercanos en 1D usando fuerza bruta.\r\n",
        "La solución por el método de la fuerza bruta es de complejidad $O(n)^2$, ya que se calcula la distancia entre cada par de puntos y se devuelve finalmente el menor valor de todos,donde $n$ es el número de puntos que forman parte del array de entrada,. En concreto, se realizan un total de $n\\cdot(n - 1) / 2$ cálculos entre pares de puntos, es por ello, que el orden de complejidad se sitúa en $O(n)^2$."
      ]
    },
    {
      "cell_type": "code",
      "metadata": {
        "colab": {
          "base_uri": "https://localhost:8080/"
        },
        "id": "zsm3uKSSoeJ_",
        "outputId": "9ac45b34-1908-405f-e0d5-6f4158a695e0"
      },
      "source": [
        "import random\r\n",
        "import math\r\n",
        "import numpy as np\r\n",
        "\r\n",
        "def closestPair1D(LISTA):\r\n",
        "  minDist = math.inf\r\n",
        "  for i, value_i in enumerate(LISTA[:-1]):\r\n",
        "    for j in range(i+1,len(LISTA)):\r\n",
        "      dist = np.abs(value_i - LISTA[j])\r\n",
        "      # print(value_i, LISTA[j],dist)\r\n",
        "      if dist < minDist:\r\n",
        "        minDist = dist\r\n",
        "        pair = (i,j)\r\n",
        "  return minDist, pair\r\n",
        "\r\n",
        "LISTA_1D = [random.randrange(1,10000) for x in range(3)]\r\n",
        "minDist, pair = closestPair1D(LISTA_1D)\r\n",
        "print(\"La distancia mínima es de \" + str(minDist) + \" unidades y se localiza en los pares de puntos \" + str(pair))"
      ],
      "execution_count": null,
      "outputs": [
        {
          "output_type": "stream",
          "text": [
            "La distancia mínima es de 2655 unidades y se localiza en los pares de puntos (0, 2)\n"
          ],
          "name": "stdout"
        }
      ]
    },
    {
      "cell_type": "markdown",
      "metadata": {
        "id": "EqP86SSxGW2l"
      },
      "source": [
        "### 2. Encontrar los puntos más cercanos en 1D usando el método de divide y vencerás.\r\n",
        "Una mejora respecto a la fuerza bruta se consigue a través del método de divide y vencerás además de una pre-ordenación del array de entrada de menor a mayor. En el siguiente código se proporciona una solución que permite mejorar la complejidad a $O(n\\cdot log(n))$.\r\n",
        "La recurrencia viene dada por el cálculo $T(n) = 2T(n/2) + O(n)$, lo cual se concreta en un orden de $T(n) = O(n\\cdot log(n))$, mejorando la complejidad de la fuerza bruta.\r\n",
        "\r\n",
        "\r\n"
      ]
    },
    {
      "cell_type": "code",
      "metadata": {
        "colab": {
          "base_uri": "https://localhost:8080/"
        },
        "id": "KWpOdpAYO42-",
        "outputId": "652cc482-16bb-4290-f9f9-d9711eebe522"
      },
      "source": [
        "import random\r\n",
        "import math\r\n",
        "import numpy as np\r\n",
        "\r\n",
        "infinity = float('inf')\r\n",
        "\r\n",
        "def closestUtil(P,numPoints):\r\n",
        "  xP = sorted(P) #El array de puntos es ordenado de menor a mayor \r\n",
        "  print(xP)\r\n",
        "  if numPoints == 1: # If |S| = 1, output d = ∞.\r\n",
        "    return infinity, (None, None)\r\n",
        "  elif numPoints == 2: # If |S| = 2, output d = |p2 − p1|.\r\n",
        "    return np.abs(xP[1]-xP[0])\r\n",
        "  else: #En otros casos, seguir los siguientes pasos.\r\n",
        "    mid = numPoints//2 #Calcular el índice que señala la mediana de xP\r\n",
        "    #Dividir el xP en dos partes, partidos por la mediana, de forma recursiva.\r\n",
        "    dl = closestUtil(xP[:mid], mid) #Mínima distancia del corte izquierdo\r\n",
        "    dr = closestUtil(xP[mid:], numPoints - mid) #Mínima distancia del corte derecho\r\n",
        "    dmid = np.abs(xP[mid-1]-xP[mid])#Mínima distancia entre los puntos que marcan el corte\r\n",
        "    # print(\"dl \"+str(dl)+\" dr \"+str(dr)+\" dm \"+str(dmid))\r\n",
        "    d = min(dl,dr,dmid) #Mínima distancia entre las tres mínimas distancias anteriores\r\n",
        "\r\n",
        "  return d\r\n",
        "\r\n",
        "LISTA_1D = [(random.randrange(1,1000)) for x in range(16)]#Array de puntos en 1D\r\n",
        "n = len(LISTA_1D)#Dimensión del array de puntos\r\n",
        "\r\n",
        "minDist = closestUtil(LISTA_1D,n)#Función principal que calcula la distancia mínima entre un par de puntos\r\n",
        "print(\"La distancia mínima es de \" + str(minDist) + \" unidades.\")"
      ],
      "execution_count": null,
      "outputs": [
        {
          "output_type": "stream",
          "text": [
            "[2, 144, 180, 271, 339, 342, 392, 430, 571, 605, 663, 716, 718, 776, 801, 921]\n",
            "[2, 144, 180, 271, 339, 342, 392, 430]\n",
            "[2, 144, 180, 271]\n",
            "[2, 144]\n",
            "[180, 271]\n",
            "[339, 342, 392, 430]\n",
            "[339, 342]\n",
            "[392, 430]\n",
            "[571, 605, 663, 716, 718, 776, 801, 921]\n",
            "[571, 605, 663, 716]\n",
            "[571, 605]\n",
            "[663, 716]\n",
            "[718, 776, 801, 921]\n",
            "[718, 776]\n",
            "[801, 921]\n",
            "La distancia mínima es de 2 unidades.\n"
          ],
          "name": "stdout"
        }
      ]
    },
    {
      "cell_type": "markdown",
      "metadata": {
        "id": "j53ruxiFJUeP"
      },
      "source": [
        "### 3. Encontrar los puntos más cercanos en 2D y 3D (y ordenes superiores) usando la fuerza bruta.\r\n",
        "La solución por el método de la fuerza bruta es de complejidad $O(n)^2$,ya que se calcula la distancia entre cada par de puntos y se devuelve finalmente el menor valor de todos. $n$ es el número de puntos que forman parte del array de entrada."
      ]
    },
    {
      "cell_type": "code",
      "metadata": {
        "colab": {
          "base_uri": "https://localhost:8080/"
        },
        "id": "VA9sxbETmk1s",
        "outputId": "ab78ad16-5a43-445e-b1ca-bc7f056ae977"
      },
      "source": [
        "import random\r\n",
        "import math\r\n",
        "import numpy as np\r\n",
        "\r\n",
        "def dist_eucl(p1,p2):\r\n",
        "  dist = math.sqrt(sum([(a - b) ** 2 for a, b in zip(p1, p2)]))\r\n",
        "  return dist\r\n",
        "\r\n",
        "def closestPair(LISTA):\r\n",
        "  minDist = math.inf\r\n",
        "  for i, value_i in enumerate(LISTA[:-1]):\r\n",
        "    for j in range(i+1,len(LISTA)):\r\n",
        "      dist = dist_eucl(value_i, LISTA[j])\r\n",
        "      # print(value_i, LISTA[j],dist)\r\n",
        "      if dist < minDist:\r\n",
        "        minDist = dist\r\n",
        "        pair = (i,j)\r\n",
        "  return minDist, pair\r\n",
        "\r\n",
        "LISTA_2D = [(random.randrange(1,10000),random.randrange(1,10000)) for x in range(1000)]\r\n",
        "minDist, pair = closestPair(LISTA_2D)\r\n",
        "print(\"La distancia mínima es de \" + str(minDist) + \" unidades y se localiza en los pares de puntos \" + str(pair))\r\n",
        "LISTA_3D = [(random.randrange(1,10000),random.randrange(1,10000),random.randrange(1,10000)) for x in range(3)]\r\n",
        "minDist, pair = closestPair(LISTA_3D)\r\n",
        "print(\"La distancia mínima es de \" + str(minDist) + \" unidades y se localiza en los pares de puntos \" + str(pair))"
      ],
      "execution_count": null,
      "outputs": [
        {
          "output_type": "stream",
          "text": [
            "La distancia mínima es de 2.0 unidades y se localiza en los pares de puntos (855, 922)\n",
            "La distancia mínima es de 3409.9249258598056 unidades y se localiza en los pares de puntos (0, 2)\n"
          ],
          "name": "stdout"
        }
      ]
    },
    {
      "cell_type": "markdown",
      "metadata": {
        "id": "Iq8E9CwSpLkr"
      },
      "source": [
        "### 4. Encontrar los puntos más cercanos en 2D usando el método de divide y vencerás.\r\n",
        "En este apartado se programa una función que calcula la distancia más cercana entre dos puntos de un array de puntos en 2D.  \r\n",
        "\r\n",
        "#### Complejidad del método Divide y vencerás programado\r\n",
        "La complejidad computacional del algoritmo se define como $T(n)$. A continuación, se desglosa el coste del programa:\r\n",
        "\r\n",
        "- Se asume que el algoritmo de ordenamiento inicial (coordenada X) conlleva $O(n\\cdot log(n))$.\r\n",
        "- La división recursiva del conjunto de puntos en dos partes conlleva $2T(n/2)$.\r\n",
        "- Después de la división, la búsqueda de la strip conlleva un tiempo $O(n)$.\r\n",
        "- Ordenar el strip por la coordenada Y conlleva un $O(n \\cdot log(n))$.\r\n",
        "- Encontrar los puntos más cercanos dentro de la strip conlleva un tiempo $O(n)$.\r\n",
        "\r\n",
        "Finalmente, el coste total se calcula como:\r\n",
        "\r\n",
        "$T(n) = 2T(n/2) + O(n) + O(n \\cdot log(n))+O(n) $\r\n",
        "\r\n",
        "$T(n) = 2T(n/2) +  O(n \\cdot log(n)) $\r\n",
        "\r\n",
        "$T(n) = T(n \\cdot log(n)  \\cdot log(n)) $\r\n",
        "\r\n",
        "$T(n) = T(n \\cdot (log(n)^{2})) $\r\n",
        "\r\n",
        "#### Comparativa entre ambos métodos\r\n",
        "Finalmente, se comparan los resultados de los métodos de divide y vencerás con el método de la fuerza bruta, ejecutando 100 veces cada función para el mismo array de entrada y calculando el tiempo medio de ejecución.\r\n",
        "\r\n",
        "Se comprueba que para el método de divide y vencerás es más rápido que el de fuerza bruta para el mayor número de casos. Solamente, cuando las listas de entrada son de tamaño pequeño, entonces el método de la fuerza bruta arroja mejores resultados de ejecución."
      ]
    },
    {
      "cell_type": "code",
      "metadata": {
        "colab": {
          "base_uri": "https://localhost:8080/"
        },
        "id": "_s3rzo74KbMO",
        "outputId": "36ea2e79-f955-4cd0-ece7-12aa28126573"
      },
      "source": [
        "import random\r\n",
        "import math\r\n",
        "import time\r\n",
        "import numpy as np\r\n",
        "from operator import itemgetter, attrgetter\r\n",
        "\r\n",
        "infinity = float('inf')\r\n",
        "\r\n",
        "#Distancia euclediana\r\n",
        "def dist_eucl(p1,p2):\r\n",
        "  dist = math.sqrt(sum([(a - b) ** 2 for a, b in zip(p1, p2)]))\r\n",
        "  return dist\r\n",
        " \r\n",
        "#Fuerza bruta puntos más cercanos\r\n",
        "def closestPairFB(P,numPoints):\r\n",
        "  if numPoints < 2:\r\n",
        "    return infinity, (None, None)\r\n",
        "  else:\r\n",
        "    minDist = infinity\r\n",
        "    for i, value_i in enumerate(P[:-1]):\r\n",
        "      for j in range(i+1,numPoints):\r\n",
        "        dist = dist_eucl(value_i, P[j])\r\n",
        "        if dist < minDist:\r\n",
        "          minDist = dist\r\n",
        "          closestPair = (i,j)\r\n",
        "    return minDist\r\n",
        "    \r\n",
        "#Se ordena la lista inicial en coordenada X (xP) y en coordenada y (yP)\r\n",
        "def closest(P,n):\r\n",
        "  xP = sorted(P, key= itemgetter(0))\r\n",
        "  return closestUtil(xP,n)\r\n",
        "\r\n",
        "def stripClosest(strip, size, d):   \r\n",
        "  # Inicializar la distancia mínima al valor de d\r\n",
        "  min_val = d \r\n",
        "\r\n",
        "  #Se actualiza la distancia mínima del strip calculando la distancia entre un punto\r\n",
        "  #y el siguiente, siempre y cuando la distancia en la coordenada Y sea menor que el valor\r\n",
        "  #mínimo actual.  \r\n",
        "  for i in range(size): \r\n",
        "      j = i + 1\r\n",
        "      while j < size and (strip[j][1] - strip[i][1]) < min_val: \r\n",
        "        if dist_eucl(strip[i], strip[j]) < min_val:\r\n",
        "          min_val = dist_eucl(strip[i], strip[j]) \r\n",
        "        j += 1\r\n",
        "          \r\n",
        "  return min_val  \r\n",
        "\r\n",
        "def closestUtil(xP,n):\r\n",
        "  if n <= 3:\r\n",
        "    return closestPairFB(xP,n)\r\n",
        "\r\n",
        "  mid = n//2\r\n",
        "  midPoint = xP[mid]\r\n",
        "\r\n",
        "  #Dividir el conjunto de puntos en función de la mediana (mid)\r\n",
        "  dl = closestUtil(xP[:mid], mid) \r\n",
        "  dr = closestUtil(xP[mid:], n - mid) \r\n",
        "\r\n",
        "  # Encontrar la distancia más pequeña de las dos mitades y guardarla en d\r\n",
        "  d = min(dl,dr) \r\n",
        "\r\n",
        "  # Se crea un array llamado strip que contiene los puntos cercanos a la línea\r\n",
        "  # que pasa por el punto medio (P[mid]) y están a una distancia lateral más cercana\r\n",
        "  # a d\r\n",
        "  strip = []  \r\n",
        "  for i in range(n):  \r\n",
        "      if abs(xP[i][0] - midPoint[0]) < d:  \r\n",
        "          strip.append(xP[i]) \r\n",
        "  strip = sorted(strip, key= itemgetter(1))\r\n",
        "  # Encuentra los puntos más cercanos en strip y compara la distancia entre esos puntos, \r\n",
        "  # con la distancia d. Se devuelve la distancia menor\r\n",
        "  return min(d, stripClosest(strip, len(strip), d)) \r\n",
        "\r\n",
        "\r\n",
        "#Llamada a las funciones principales principal\r\n",
        "t_DivideConquer = []\r\n",
        "t_BruteForce = []\r\n",
        "execution_number = 100\r\n",
        "\r\n",
        "for iter in range(10):\r\n",
        "  P = [(random.randrange(1,10000),random.randrange(1,10000)) for x in range(1000)] #Lista inicial de puntos\r\n",
        "  n = len(P)\r\n",
        "  t0 = time.clock()\r\n",
        "  closest(P,n)\r\n",
        "  t_DivideConquer.append(time.clock() - t0)\r\n",
        "  t0 = time.clock()\r\n",
        "  closestPairFB(P,n)\r\n",
        "  t_BruteForce.append(time.clock() - t0)\r\n",
        "\r\n",
        "print(\"El tiempo medio tras \" + str(execution_number) + \" ejecuciones del método divide y vencerás es \" + str(np.mean(t_DivideConquer)) + \" segundos\")\r\n",
        "print(\"El tiempo medio tras \" + str(execution_number) + \" ejecuciones del método de la fuerza bruta es \" + str(np.mean(t_BruteForce)) + \" segundos\")\r\n",
        "print(\"El método de divide y vencerás es %2f veces más rápido que el de la fuerza bruta para %d ejecuciones\" %(np.mean(t_BruteForce)/np.mean(t_DivideConquer),execution_number))"
      ],
      "execution_count": null,
      "outputs": [
        {
          "output_type": "stream",
          "text": [
            "El tiempo medio tras 100 ejecuciones del método divide y vencerás es 0.00678919999999863 segundos\n",
            "El tiempo medio tras 100 ejecuciones del método de la fuerza bruta es 0.6619855999999984 segundos\n",
            "El método de divide y vencerás es 97.505686 veces más rápido que el de la fuerza bruta para 100 ejecuciones\n"
          ],
          "name": "stdout"
        }
      ]
    }
  ]
}