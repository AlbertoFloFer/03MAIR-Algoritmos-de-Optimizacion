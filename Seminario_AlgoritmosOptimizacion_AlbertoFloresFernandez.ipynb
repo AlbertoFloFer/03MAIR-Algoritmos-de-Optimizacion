{
  "nbformat": 4,
  "nbformat_minor": 0,
  "metadata": {
    "colab": {
      "name": "Seminario - AlgoritmosOptimizacion-AlbertoFloresFernandez.ipynb",
      "provenance": [],
      "collapsed_sections": [],
      "include_colab_link": true
    },
    "kernelspec": {
      "name": "python3",
      "display_name": "Python 3"
    }
  },
  "cells": [
    {
      "cell_type": "markdown",
      "metadata": {
        "id": "view-in-github",
        "colab_type": "text"
      },
      "source": [
        "<a href=\"https://colab.research.google.com/github/AlbertoFloFer/03MAIR-Algoritmos-de-Optimizacion/blob/main/Seminario_AlgoritmosOptimizacion_AlbertoFloresFernandez.ipynb\" target=\"_parent\"><img src=\"https://colab.research.google.com/assets/colab-badge.svg\" alt=\"Open In Colab\"/></a>"
      ]
    },
    {
      "cell_type": "markdown",
      "metadata": {
        "id": "hVbXYX-RfPWh"
      },
      "source": [
        "# Algoritmos de optimización - Seminario<br>\n",
        "**Nombre y Apellidos:** Alberto Flores Fernández   <br>\n",
        "**Url:** https://github.com/.../03MAIR---Algoritmos-de-Optimizacion---2019/tree/master/SEMINARIO<br>\n",
        "**Problema:** Combinar cifras y operaciones\n",
        "\n",
        "**Descripción del problema:**\n",
        "\n",
        "\n",
        "El problema consiste en analizar el siguiente problema y diseñar un algoritmo que lo resuelva.\n",
        "\n",
        "Las condiciones del problema son las siguientes:\n",
        "\n",
        "• Disponemos de las 9 cifras del 1 al 9 (excluimos el cero) y de los 4 signos básicos de las operaciones fundamentales: suma(+), resta(-), multiplicación(*) y división(/).\n",
        "\n",
        "• Debemos combinarlos alternativamente sin repetir ninguno de ellos para obtener una cantidad dada.\n",
        "\n",
        "• Debemos usar 5 cifras en cada combinación.\n",
        "\n",
        "Debe analizarse el problema para encontrar todos los valores enteros posibles planteando las siguientes cuestiones: \n",
        "\n",
        "  1) ¿Qué valor máximo y mínimo se pueden obtener según las condiciones del problema? \n",
        "\n",
        "  2) ¿Es posible encontrar todos los valores enteros posibles entre dicho mínimo y máximo ?\n",
        "\n",
        "• Nota: Es posible usar la función de python “eval” para evaluar una expresión.\n",
        "\n",
        "(*) La respuesta es obligatoria                                        "
      ]
    },
    {
      "cell_type": "markdown",
      "metadata": {
        "id": "3_-exlrTgLd-"
      },
      "source": [
        "**(*)¿Cuantas posibilidades hay sin tener en cuenta las restricciones?**<br>"
      ]
    },
    {
      "cell_type": "markdown",
      "metadata": {
        "id": "WfCUqJyKhPcw"
      },
      "source": [
        "Respuesta"
      ]
    },
    {
      "cell_type": "markdown",
      "metadata": {
        "id": "rmp8m6fncyd0"
      },
      "source": [
        "\r\n",
        "En primer lugar, se describen las **restricciones** derivadas del análisis del enunciado del problema. Se diferencias entre restricciones explicitas e implicitas tal y como se detalla a continuación:\r\n",
        "\r\n",
        "*Restricciones explícitas*: están formadas por reglas que restringen el espacio de valores que pueden tomar los elementos de un conjunto determinado. En nuestro problema se define el conjunto numérico $S_n = \\{1\t\\leq x \\leq 9 | x \\in \\mathbb Z^+\\} = \\{1,2,3,4,5,6,7,8,9\\}$ y el conjunto de operaciones elementales $S_o = \\{+,-,x,/\\}$.\r\n",
        "\r\n",
        "*Restricciones implícitas*: indican la relación existente entre los posibles valores de los elementos del conjunto para que estos puedan ser parte de una expresión solución. Se enumeran las siguientes:\r\n",
        "\r\n",
        "1. La expresión a evaluar contiene 9 dígitos.\r\n",
        "\r\n",
        "2. La expresión a evaluar mezcla 5 cifras y 4 operadores del siguiente modo y sin paréntesis, del formato:\r\n",
        "\r\n",
        "$Expresion = (num)(oper)(num)(oper)(num)(oper)(num)(oper)(num)$\r\n",
        "\r\n",
        "3. No se puede repetir cifra númerica en la expresión\r\n",
        "\r\n",
        "4. No se puede repetir operador matemático en la expresión\r\n",
        "\r\n",
        "5. Una expresión se considera válida si su evaluación es un número entero\r\n",
        "\r\n",
        "**Planteamiento 1**\r\n",
        "\r\n",
        "Considerando únicamente las restricciones explícitas y la primera restricción implicita. Puede establecerse un conjunto único que contenga todos los posibles elementos que forman parte de la expresión. De este modo, se define $S\\_global = \\{1,2,3,4,5,6,7,8,9,+,-,x,/\\}$.\r\n",
        "\r\n",
        "En este punto, se introduce el concepto de variación, conocido como la agrupación ordenada de objetos de un conjunto, donde el orden importa y no se seleccionan todos los elementos del conjunto inicial. \r\n",
        "\r\n",
        "Si se lleva a cabo una búsqueda de variaciones de elementos no necesariamente distintos extraidos del conjunto $S\\_global$ se aplica la ecuación de la variación con repetición. Por tanto, si se tiene una colección de $m$ objetos distintos, el número de maneras diferentes que se pueden tomar un número $n$ de objetos de esa colección está dado por la formula general de la variación con repetición de objetos. Particularizando para el plantamiento 1, m es 13; equivale al número de elementos del conjunto, y n es 9, puesto que es el número de digitos que contiene la expresión de las posibles soluciones:\r\n",
        "\r\n",
        "$VR\\_m,n = n^{m} = 9^{13} = 2.541.865.828.329$ posibles soluciones\r\n",
        "\r\n",
        "Por otro lado, si se realiza una búsqueda de variaciones de elementos no repetidos extraidos del conjunto $S\\_global$ se estaría realizando una variación sin repeteción. Por tanto, si se tiene una colección de $m$ objetos distintos, el número de maneras diferentes que se pueden tomar un número $n$ de objetos de esa colección, con la condición de $n < m$, está dado por la formula general de la variación sin repetición de objetos:\r\n",
        "\r\n",
        "$V\\_m,n = \\frac{m!}{(m-n)!}$\r\n",
        "\r\n",
        "Puesto que todos los elementos del conjunto inicial $S\\_global$ son diferentes, se puede hacer uso de la fórmula de variación sin repetición donde m es 13; equivale al número de elementos del conjunto, y n es 9, puesto que es el número de digitos que contiene la expresión de las posibles soluciones. Por tanto, se obtiene:\r\n",
        "\r\n",
        "$V\\_S\\_global = V\\_13,9 = \\frac{13!}{(13-9)}! = 259.459.200 $ posibles soluciones\r\n",
        "\r\n",
        "Se obtienen más de 250 millones de variaciones. Esto implica reducir aproximadamente 4 ordenes de magnitud el espacio de posibles soluciones al buscar variaciones sin repetición, en lugar de con repeteción. Aunque es una gran mejora, el espacio de soluciones es desorbitado y, además, con este enfoque es que al no considerar la restricción implícita 2 (el orden en que se mezclan los caracterés numéricos con las operaciones) se obtienen expresiones que no pueden evaluarse del tipo:\r\n",
        "\r\n",
        "$expression = /34-*179$\r\n",
        "\r\n",
        "**Planteamiento 2**\r\n",
        "\r\n",
        "Considerando únicamente las restricciones explícitas y que la expresión contiene 9 dígitos (restricción 1) del formato que marca la restricción 2, se plantea el siguiente análisis.\r\n",
        "\r\n",
        "Por un lado, se obtienen $V_{9,5}$ números diferentes de cinco cifras, repetidas o no, considerando el conjunto de números $S_n$, donde $V_{9,5}$ se calcula como:\r\n",
        "\r\n",
        "$V_{9,5} = 9^{5} = 59.049$  \r\n",
        "\r\n",
        "Por otro lado, se obtienen $W_{4,4}$ combinaciones diferentes de 4 secuencias de operaciones, repetidas o no, considerando el conjunto $S_o$, donde $W_{4,4}$ se calcula como:\r\n",
        "\r\n",
        "$W_{4,4} = 4^{4} = 256$  \r\n",
        "\r\n",
        "Por tanto, sin tener en cuenta que el resultado de evaluar sea un número entero o no, que se usan 5 cifras numéricas del conjunto $S_n$ y que se usan 4 operaciones del conjunto $S_o$, siendo posible repetir algún elemento, el número total de posibles soluciones $Y$ son: \r\n",
        "\r\n",
        "$Y = V_{9,5} \\cdot W_{4,4} = 59.049 \\cdot 256 = 15.116.544$ soluciones.\r\n",
        "\r\n",
        "Por tanto, el espacio de posibles soluciones consiste en más de 15 millones de soluciones. Con este planteamiento, se reduce un orden de magnitud más con respecto al planteamiento 1 de 250 millones de soluciones posibles.\r\n",
        "\r\n",
        "Sin embargo, este segundo planteamiento, al no considerar todas las restricciones, permite repetir cifras numéricas u operadores, y por tanto, muchas de las posibles soluciones constituirán expresiones matemáticas que no se ajustan a las restricciones dadas en el enunciado."
      ]
    },
    {
      "cell_type": "code",
      "metadata": {
        "colab": {
          "base_uri": "https://localhost:8080/"
        },
        "id": "JOruvKJ0iyKV",
        "outputId": "efaf7aa4-6fcd-46be-f7d9-cb577b85aefc"
      },
      "source": [
        "import math\r\n",
        "#Función que calcula el número de variaciones con repetición de un conjunto de m elementos\r\n",
        "#donde se toman n elementos para formar cada variación\r\n",
        "def variaciones_rep(m,n):\r\n",
        "  return (m**n)\r\n",
        "\r\n",
        "#Función que calcula el número de variaciones sin repetición de un conjunto de m elementos\r\n",
        "#donde se toman n elementos para formar cada variación\r\n",
        "def variaciones(m,n):\r\n",
        "  return (math.factorial(m)/math.factorial(m-n))\r\n",
        "\r\n",
        "#S_global = {1,2,3,4,5,6,7,8,9,+,-,*,/}\r\n",
        "Sn  = list(range(1,10))\r\n",
        "So = list(\"+-*/\")\r\n",
        "S_global = Sn + So\r\n",
        "\r\n",
        "print(\"S_global:\"+ str(S_global))\r\n",
        "\r\n",
        "#Variaciones sin repetición del conjunto S_global tomando en cada variación 9 elementos\r\n",
        "m = len(S_global)\r\n",
        "n = 9\r\n",
        "\r\n",
        "#Variaciones con repetición del conjunto S_global tomando en cada variación 9 elementos\r\n",
        "V_rep = variaciones_rep(m,n)\r\n",
        "print(\"V_rep (Planteamiento 1) = \" + str(V_rep))\r\n",
        "\r\n",
        "#Variaciones sin repetición del conjunto S_global tomando en cada variación 9 elementos\r\n",
        "V = variaciones(m,n)\r\n",
        "print(\"V (Planteamiento 1) = \" + str(V))\r\n",
        "\r\n",
        "#Variaciones con repetición tomando por separado el conjunto Sn y el conjunto So tomando en cada variación 9 elementos\r\n",
        "m = len(Sn)\r\n",
        "n = 5\r\n",
        "V_n = variaciones_rep(m,n)\r\n",
        "\r\n",
        "m = len(So)\r\n",
        "n = 4\r\n",
        "V_o = variaciones_rep(m,n)\r\n",
        "\r\n",
        "V_rep= V_n*V_o\r\n",
        "print(\"V_rep (Planteamiento 2) = \" + str(V_rep))"
      ],
      "execution_count": null,
      "outputs": [
        {
          "output_type": "stream",
          "text": [
            "S_global:[1, 2, 3, 4, 5, 6, 7, 8, 9, '+', '-', '*', '/']\n",
            "V_rep (Planteamiento 1) = 10604499373\n",
            "V (Planteamiento 1) = 259459200.0\n",
            "V_rep (Planteamiento 2) = 15116544\n"
          ],
          "name": "stdout"
        }
      ]
    },
    {
      "cell_type": "markdown",
      "metadata": {
        "id": "qEP5DtfHdQX8"
      },
      "source": [
        "\r\n",
        "**¿Cuantas posibilidades hay teniendo en cuenta todas las restricciones.**"
      ]
    },
    {
      "cell_type": "markdown",
      "metadata": {
        "id": "dzIHf0rndRn0"
      },
      "source": [
        "Respuesta"
      ]
    },
    {
      "cell_type": "markdown",
      "metadata": {
        "id": "lkvHA8s7lDdr"
      },
      "source": [
        "El cálculo del número de variaciones de la expresión general de 9 dígitos (restricción 1) dada por el formato de la restricción 2, donde no se permite la repetición de números (restricción 3) ni operaciones (restricción 4) en la expresión puede calcularse del siguiente modo:\r\n",
        "\r\n",
        "1. La primera cifra se elige entre 9 candidatos\r\n",
        "2. La primera operación se elige entre 4 candidatos\r\n",
        "3. La segunda cifra se elige entre 8 candidatos\r\n",
        "4. La segunda operación se elige entre 3 candidatos\r\n",
        "5. La tercera cifra se elige entre 7 candidatos\r\n",
        "6. La tercera operación se elige entre 2 candidatos\r\n",
        "7. La cuarta cifra se elige entre 6 candidatos\r\n",
        "8. La cuarta operación se elige entre 1 candidatos\r\n",
        "9. La quinta cifra se elige entre 5 candidatos\r\n",
        "\r\n",
        "Por tanto, el número de posibles expresiones considerando las restricciones 1,2,3 y 4 son:\r\n",
        "\r\n",
        "$V\\_res1234 = 9\\cdot4\\cdot8\\cdot3\\cdot7\\cdot2\\cdot6\\cdot1\\cdot5 = 362.880 $\r\n",
        "\r\n",
        "Por tanto, existen 362.880 posibles soluciones cuya evaluación no se asegura que resulte en un número entero. Sin embargo, el espacio de soluciones se ha reducido considerablemente comparado con el espacio de soluciones de los planteamientos anteriores."
      ]
    },
    {
      "cell_type": "markdown",
      "metadata": {
        "id": "dzynfVJahHoY"
      },
      "source": [
        "**Modelo para el espacio de soluciones<br>\n",
        "(*) ¿Cual es la estructura de datos que mejor se adapta al problema? Argumentalo.(Es posible que hayas elegido una al principio y veas la necesidad de cambiar, arguentalo)**\n"
      ]
    },
    {
      "cell_type": "markdown",
      "metadata": {
        "id": "xFIJrOwKi2Ti"
      },
      "source": [
        "Respuesta"
      ]
    },
    {
      "cell_type": "markdown",
      "metadata": {
        "id": "bLYIvSBAmSJQ"
      },
      "source": [
        "Inicialmente se estableció la $tupla$ de python como estructura para almacenar cada una de las posibles soluciones de longitud 9 formadas por 5 cifras numéricas y 4 símbolos de operación elemental. \r\n",
        "\r\n",
        "Posteriormente, tras incidir en la idea de usar la permutación como método para obtener las distintos grupos de expresiones para una combinación dada, es necesario el intercambio (swap) de elementos de la expresión. Esta operación no está permitida con una tupla y, por ello, se dedice cambiar al formato $lista$ de python, que si permite realizar dicha operación.\r\n",
        "\r\n",
        "Además, la solución general consiste en una lista de listas, $int\\_list$, donde cada elemento de la lista principal tiene dos elementos. El primero es la expresión y el segundo el valor entero obtenido. \r\n",
        "\r\n",
        "$int\\_list = ((\"9+4/1-3*2\",7),(exp,value),(exp,value),...)$"
      ]
    },
    {
      "cell_type": "markdown",
      "metadata": {
        "id": "7Z9U2W7bi-XS"
      },
      "source": [
        "**Según el modelo para el espacio de soluciones<br>\n",
        "(*)¿Cual es la función objetivo?**\n",
        "\n",
        "**(*)¿Es un problema de maximización o minimización?**"
      ]
    },
    {
      "cell_type": "markdown",
      "metadata": {
        "id": "hBalWLM7j1_d"
      },
      "source": [
        "Respuesta"
      ]
    },
    {
      "cell_type": "markdown",
      "metadata": {
        "id": "SJN6A-LHm02l"
      },
      "source": [
        "En el caso de este problema, no existe una única solución óptima, si no que existe un espacio de soluciones válidas que cumplen las restricciones marcadas. Por tanto, el problema se enfoca dentro de los problemas de búsquedas de soluciones.\r\n",
        "\r\n",
        "Sin embargo, en caso de querer obtener el valor máximo o mínimo de las posibles expresiones matemáticas que se ajustan a las restricciones del problema, se plantean el siguiente problema de optimización:\r\n",
        "\r\n",
        "$min/max$ $x_{0}y_{0}x_{1}y_{1}x_{2}y_{2}x_{3}y_{3}x_{4} = d \\in \\mathbb Z$\r\n",
        "\r\n",
        "$s.a.$\r\n",
        "\r\n",
        "$1 \\leq x_{i} \\leq 9$ $\\forall i = 0,1,2,3,4$\r\n",
        "\r\n",
        "$x_{i} \\neq x_{j}$ $si$ $i \\neq j$, $\\forall i = 0,1,2,3,4$, $\\forall j = 0,1,2,3,4$\r\n",
        "\r\n",
        "$y_{k}\\in \\{+,-,*,/\\}$ $\\forall k = 0,1,2,3$\r\n",
        "\r\n",
        "$y_{k} \\neq y_{t}$ $si$ $k \\neq t$, $\\forall k = 0,1,2,3$, $\\forall t = 0,1,2,3$\r\n",
        "\r\n",
        "$x_{i}\\geq 0,$ $con$ $x_{i} \\in \\mathbb Z$ $\\forall i = 0,1,2,3,4$\r\n",
        "\r\n",
        "Por tanto, la función objetivo es $x_{0}y_{0}x_{1}y_{1}x_{2}y_{2}x_{3}y_{3}x_{4}$.\r\n",
        "\r\n",
        "\r\n",
        "\r\n"
      ]
    },
    {
      "cell_type": "markdown",
      "metadata": {
        "id": "rlnTYgY1j6I2"
      },
      "source": [
        "**Diseña un algoritmo para resolver el problema por fuerza bruta**"
      ]
    },
    {
      "cell_type": "markdown",
      "metadata": {
        "id": "70rDgxYXkC8r"
      },
      "source": [
        "Respuesta"
      ]
    },
    {
      "cell_type": "code",
      "metadata": {
        "id": "CJb5sQ0qkENy",
        "colab": {
          "base_uri": "https://localhost:8080/"
        },
        "outputId": "d69f9f0b-c88f-434c-b2dd-2e8a2ec3be77"
      },
      "source": [
        "##################################################################################\r\n",
        "#PASO1. Cálcular todas las variaciones sin repeteción numéricas longitud 5 dada el conjunto Sn = range(1,10)\r\n",
        "from itertools import permutations\r\n",
        "numbers_list = []\r\n",
        "\r\n",
        "for t in permutations(range(1,10), 5):\r\n",
        "        numbers_list.append(list(t))\r\n",
        "print(\"El número de variaciones sin repetición para Sn es de 9*8*7*6*5 = %d\" %(9*8*7*6*5))\r\n",
        "\r\n",
        "##################################################################################\r\n",
        "#PASO2.Calcular todas las variaciones sin repetición de los operadores dado el conjunto So = {+,-,*,/}\r\n",
        "So = \"+-*/\"\r\n",
        "oper_set = list(So)\r\n",
        "oper_list = []\r\n",
        "for t in permutations(oper_set, 4):\r\n",
        "        oper_list.append(list(t))\r\n",
        "print(\"El número de variaciones sin repetición para So es de 4*3*2*1 = %d\" %(4*3*2*1))\r\n",
        "\r\n",
        "##################################################################################\r\n",
        "#Paso 3. Unir cada secuencia numérica y cada secuencia de operadores, insertando cada operador en la posición correcta\r\n",
        "expresion_list = []\r\n",
        "for numbers in numbers_list[:1]:\r\n",
        "  for oper in oper_list:\r\n",
        "    temp = numbers.copy()\r\n",
        "    temp.insert(1, oper[0])\r\n",
        "    temp.insert(3, oper[1])\r\n",
        "    temp.insert(5, oper[2])\r\n",
        "    temp.insert(7, oper[3])\r\n",
        "    print(''.join(str(temp)))\r\n",
        "    expresion_list.append(temp)\r\n",
        "  #Evaluar expresión y comprobar si el resultado es un número entero o no\r\n",
        "    # print(eval(str(temp)))\r\n",
        "  #En caso de que sea entero se guarda en la variable SOLUCION\r\n",
        "print(len(expresion_list))"
      ],
      "execution_count": null,
      "outputs": [
        {
          "output_type": "stream",
          "text": [
            "El número de variaciones sin repetición para Sn es de 9*8*7*6*5 = 15120\n",
            "El número de variaciones sin repetición para So es de 4*3*2*1 = 24\n",
            "[1, '+', 2, '-', 3, '*', 4, '/', 5]\n",
            "[1, '+', 2, '-', 3, '/', 4, '*', 5]\n",
            "[1, '+', 2, '*', 3, '-', 4, '/', 5]\n",
            "[1, '+', 2, '*', 3, '/', 4, '-', 5]\n",
            "[1, '+', 2, '/', 3, '-', 4, '*', 5]\n",
            "[1, '+', 2, '/', 3, '*', 4, '-', 5]\n",
            "[1, '-', 2, '+', 3, '*', 4, '/', 5]\n",
            "[1, '-', 2, '+', 3, '/', 4, '*', 5]\n",
            "[1, '-', 2, '*', 3, '+', 4, '/', 5]\n",
            "[1, '-', 2, '*', 3, '/', 4, '+', 5]\n",
            "[1, '-', 2, '/', 3, '+', 4, '*', 5]\n",
            "[1, '-', 2, '/', 3, '*', 4, '+', 5]\n",
            "[1, '*', 2, '+', 3, '-', 4, '/', 5]\n",
            "[1, '*', 2, '+', 3, '/', 4, '-', 5]\n",
            "[1, '*', 2, '-', 3, '+', 4, '/', 5]\n",
            "[1, '*', 2, '-', 3, '/', 4, '+', 5]\n",
            "[1, '*', 2, '/', 3, '+', 4, '-', 5]\n",
            "[1, '*', 2, '/', 3, '-', 4, '+', 5]\n",
            "[1, '/', 2, '+', 3, '-', 4, '*', 5]\n",
            "[1, '/', 2, '+', 3, '*', 4, '-', 5]\n",
            "[1, '/', 2, '-', 3, '+', 4, '*', 5]\n",
            "[1, '/', 2, '-', 3, '*', 4, '+', 5]\n",
            "[1, '/', 2, '*', 3, '+', 4, '-', 5]\n",
            "[1, '/', 2, '*', 3, '-', 4, '+', 5]\n",
            "24\n"
          ],
          "name": "stdout"
        }
      ]
    },
    {
      "cell_type": "code",
      "metadata": {
        "colab": {
          "base_uri": "https://localhost:8080/"
        },
        "id": "IXnf3mT01cGg",
        "outputId": "bf460ab0-9978-471c-ca97-8874f38a405c"
      },
      "source": [
        "lista = [4,\"+\",3]\r\n",
        "print(lista)\r\n",
        "expresion = ''.join(str(lista))\r\n",
        "print(expresion)"
      ],
      "execution_count": null,
      "outputs": [
        {
          "output_type": "stream",
          "text": [
            "[4, '+', 3]\n",
            "[4, '+', 3]\n"
          ],
          "name": "stdout"
        }
      ]
    },
    {
      "cell_type": "markdown",
      "metadata": {
        "id": "tgrnsC2nkFa8"
      },
      "source": [
        "Calcula la complejidad del algoritmo por fuerza bruta"
      ]
    },
    {
      "cell_type": "markdown",
      "metadata": {
        "id": "9eUd3xwckP68"
      },
      "source": [
        "Respuesta"
      ]
    },
    {
      "cell_type": "code",
      "metadata": {
        "id": "rvZWwL-ckRST"
      },
      "source": [
        ""
      ],
      "execution_count": null,
      "outputs": []
    },
    {
      "cell_type": "markdown",
      "metadata": {
        "id": "txbrmLmskReM"
      },
      "source": [
        "(*)Diseña un algoritmo que mejore la complejidad del algortimo por fuerza bruta. Argumenta porque crees que mejora el algoritmo por fuerza bruta"
      ]
    },
    {
      "cell_type": "markdown",
      "metadata": {
        "id": "hLrVwt5QkZPD"
      },
      "source": [
        "Respuesta"
      ]
    },
    {
      "cell_type": "code",
      "metadata": {
        "id": "m1eyM21Vkabg"
      },
      "source": [
        ""
      ],
      "execution_count": null,
      "outputs": []
    },
    {
      "cell_type": "markdown",
      "metadata": {
        "id": "eGDB4K6uk1iN"
      },
      "source": [
        "(*)Calcula la complejidad del algoritmo "
      ]
    },
    {
      "cell_type": "markdown",
      "metadata": {
        "id": "NhpTh_BPk1ms"
      },
      "source": [
        "Respuesta"
      ]
    },
    {
      "cell_type": "code",
      "metadata": {
        "id": "nREzhkStlCq8"
      },
      "source": [
        ""
      ],
      "execution_count": null,
      "outputs": []
    },
    {
      "cell_type": "markdown",
      "metadata": {
        "id": "3M6QjTsSkmYe"
      },
      "source": [
        "Según el problema (y tenga sentido), diseña un juego de datos de entrada aleatorios"
      ]
    },
    {
      "cell_type": "markdown",
      "metadata": {
        "id": "Jc3_OlyNkvjZ"
      },
      "source": [
        "Respuesta"
      ]
    },
    {
      "cell_type": "code",
      "metadata": {
        "id": "sJ-N2etjkyWc"
      },
      "source": [
        ""
      ],
      "execution_count": null,
      "outputs": []
    },
    {
      "cell_type": "markdown",
      "metadata": {
        "id": "zy5ZROmjlGo1"
      },
      "source": [
        "Aplica el algoritmo al juego de datos generado"
      ]
    },
    {
      "cell_type": "markdown",
      "metadata": {
        "id": "_Cmj-PVylMsa"
      },
      "source": [
        "Respuesta"
      ]
    },
    {
      "cell_type": "code",
      "metadata": {
        "id": "Jkx8GeiYlUz1"
      },
      "source": [
        ""
      ],
      "execution_count": null,
      "outputs": []
    },
    {
      "cell_type": "markdown",
      "metadata": {
        "id": "eTFWUJQrtGcv"
      },
      "source": [
        "Enumera las referencias que has utilizado(si ha sido necesario) para llevar a cabo el trabajo"
      ]
    },
    {
      "cell_type": "markdown",
      "metadata": {
        "id": "YKQ_mRBttWsP"
      },
      "source": [
        "Respuesta"
      ]
    },
    {
      "cell_type": "markdown",
      "metadata": {
        "id": "kAkDPUyRtYyH"
      },
      "source": [
        "Describe brevemente las lineas de como crees que es posible avanzar en el estudio del problema. Ten en cuenta incluso posibles variaciones del problema y/o variaciones al alza del tamaño"
      ]
    },
    {
      "cell_type": "markdown",
      "metadata": {
        "id": "IE0uZmo-tZu-"
      },
      "source": [
        "Respuesta"
      ]
    }
  ]
}