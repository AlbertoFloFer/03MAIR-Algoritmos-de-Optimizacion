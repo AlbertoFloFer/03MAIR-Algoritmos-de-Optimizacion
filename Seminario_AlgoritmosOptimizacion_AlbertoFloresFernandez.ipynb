{
  "nbformat": 4,
  "nbformat_minor": 0,
  "metadata": {
    "colab": {
      "name": "Seminario - AlgoritmosOptimizacion-AlbertoFloresFernandez.ipynb",
      "provenance": [],
      "collapsed_sections": [],
      "include_colab_link": true
    },
    "kernelspec": {
      "name": "python3",
      "display_name": "Python 3"
    }
  },
  "cells": [
    {
      "cell_type": "markdown",
      "metadata": {
        "id": "view-in-github",
        "colab_type": "text"
      },
      "source": [
        "<a href=\"https://colab.research.google.com/github/AlbertoFloFer/03MAIR-Algoritmos-de-Optimizacion/blob/main/Seminario_AlgoritmosOptimizacion_AlbertoFloresFernandez.ipynb\" target=\"_parent\"><img src=\"https://colab.research.google.com/assets/colab-badge.svg\" alt=\"Open In Colab\"/></a>"
      ]
    },
    {
      "cell_type": "markdown",
      "metadata": {
        "id": "hVbXYX-RfPWh"
      },
      "source": [
        "# Algoritmos de optimización - Seminario<br>\n",
        "**Nombre y Apellidos:** Alberto Flores Fernández   <br>\n",
        "**Url:** https://github.com/AlbertoFloFer/03MAIR-Algoritmos-de-Optimizacion/blob/main/Seminario_AlgoritmosOptimizacion_AlbertoFloresFernandez.ipynb <br>\n",
        "**Problema:** Combinar cifras y operaciones\n",
        "\n",
        "**Descripción del problema:**\n",
        "\n",
        "\n",
        "El problema consiste en analizar el siguiente problema y diseñar un algoritmo que lo resuelva.\n",
        "\n",
        "Las condiciones del problema son las siguientes:\n",
        "\n",
        "• Disponemos de las 9 cifras del 1 al 9 (excluimos el cero) y de los 4 signos básicos de las operaciones fundamentales: suma(+), resta(-), multiplicación(*) y división(/).\n",
        "\n",
        "• Debemos combinarlos alternativamente sin repetir ninguno de ellos para obtener una cantidad dada.\n",
        "\n",
        "• Debemos usar 5 cifras en cada combinación.\n",
        "\n",
        "Debe analizarse el problema para encontrar todos los valores enteros posibles planteando las siguientes cuestiones: \n",
        "\n",
        "  1) ¿Qué valor máximo y mínimo se pueden obtener según las condiciones del problema? \n",
        "\n",
        "  2) ¿Es posible encontrar todos los valores enteros posibles entre dicho mínimo y máximo ?\n",
        "\n",
        "• Nota: Es posible usar la función de python “eval” para evaluar una expresión.\n",
        "\n",
        "(*) La respuesta es obligatoria                                        "
      ]
    },
    {
      "cell_type": "markdown",
      "metadata": {
        "id": "3_-exlrTgLd-"
      },
      "source": [
        "**(*)¿Cuantas posibilidades hay sin tener en cuenta las restricciones?**<br>"
      ]
    },
    {
      "cell_type": "markdown",
      "metadata": {
        "id": "rmp8m6fncyd0"
      },
      "source": [
        "\r\n",
        "En primer lugar, se describen las **restricciones** derivadas del análisis del enunciado del problema. Se diferencias entre restricciones explicitas e implicitas tal y como se detalla a continuación:\r\n",
        "\r\n",
        "*Restricciones explícitas*: están formadas por reglas que restringen el espacio de valores que pueden tomar los elementos de un conjunto determinado. En nuestro problema se define el conjunto numérico $S_n = \\{1\t\\leq x \\leq 9 | x \\in \\mathbb Z^+\\} = \\{1,2,3,4,5,6,7,8,9\\}$ y el conjunto de operaciones elementales $S_o = \\{+,-,x,/\\}$.\r\n",
        "\r\n",
        "*Restricciones implícitas*: indican la relación existente entre los posibles valores de los elementos del conjunto para que estos puedan ser parte de una expresión solución. Se enumeran las siguientes:\r\n",
        "\r\n",
        "1. La expresión a evaluar contiene 9 dígitos.\r\n",
        "\r\n",
        "2. La expresión a evaluar mezcla 5 cifras y 4 operadores del siguiente modo y sin paréntesis, del formato:\r\n",
        "\r\n",
        "$Expresion = (num)(oper)(num)(oper)(num)(oper)(num)(oper)(num)$\r\n",
        "\r\n",
        "3. No se puede repetir cifra númerica en la expresión\r\n",
        "\r\n",
        "4. No se puede repetir operador matemático en la expresión\r\n",
        "\r\n",
        "5. Una expresión se considera válida si su evaluación es un número entero\r\n",
        "\r\n",
        "**Planteamiento 1**\r\n",
        "\r\n",
        "Considerando únicamente las restricciones explícitas y la primera restricción implicita. Puede establecerse un conjunto único que contenga todos los posibles elementos que forman parte de la expresión. De este modo, se define $S\\_global = \\{1,2,3,4,5,6,7,8,9,+,-,x,/\\}$.\r\n",
        "\r\n",
        "En este punto, se introduce el concepto de variación, conocido como la agrupación ordenada de objetos de un conjunto, donde el orden importa y no se seleccionan todos los elementos del conjunto inicial. \r\n",
        "\r\n",
        "Si se lleva a cabo una búsqueda de variaciones de elementos no necesariamente distintos extraidos del conjunto $S\\_global$ se aplica la ecuación de la variación con repetición. Por tanto, si se tiene una colección de $m$ objetos distintos, el número de maneras diferentes que se pueden tomar un número $n$ de objetos de esa colección está dado por la formula general de la variación con repetición de objetos. Particularizando para el plantamiento 1, m es 13; equivale al número de elementos del conjunto, y n es 9, puesto que es el número de digitos que contiene la expresión de las posibles soluciones:\r\n",
        "\r\n",
        "$VR\\_m,n = n^{m} = 9^{13} = 2.541.865.828.329$ posibles soluciones\r\n",
        "\r\n",
        "Por otro lado, si se realiza una búsqueda de variaciones de elementos no repetidos extraidos del conjunto $S\\_global$ se estaría realizando una variación sin repetición. Por tanto, si se tiene una colección de $m$ objetos distintos, el número de maneras diferentes que se pueden tomar un número $n$ de objetos de esa colección, con la condición de $n < m$, está dado por la formula general de la variación sin repetición de objetos:\r\n",
        "\r\n",
        "$V\\_m,n = \\frac{m!}{(m-n)!}$\r\n",
        "\r\n",
        "Puesto que todos los elementos del conjunto inicial $S\\_global$ son diferentes, se puede hacer uso de la fórmula de variación sin repetición donde m es 13; equivale al número de elementos del conjunto, y n es 9, puesto que es el número de digitos que contiene la expresión de las posibles soluciones. Por tanto, se obtiene:\r\n",
        "\r\n",
        "$V\\_S\\_global = V\\_13,9 = \\frac{13!}{(13-9)}! = 259.459.200 $ posibles soluciones\r\n",
        "\r\n",
        "Se obtienen más de 250 millones de variaciones. Esto implica reducir aproximadamente 4 ordenes de magnitud el espacio de posibles soluciones al buscar variaciones sin repetición, en lugar de con repeteción. Aunque es una gran mejora, el espacio de soluciones es desorbitado y, además, al no considerar la restricción implícita 2 (el orden en que se mezclan los caracterés numéricos con las operaciones) se obtienen expresiones que no pueden evaluarse, como por ejemplo:\r\n",
        "\r\n",
        "$expression = /34-*179$\r\n",
        "\r\n",
        "**Planteamiento 2**\r\n",
        "\r\n",
        "Considerando únicamente las restricciones explícitas y que la expresión contiene 9 dígitos (restricción 1) del formato que marca la restricción 2, se plantea el siguiente análisis.\r\n",
        "\r\n",
        "Por un lado, se obtienen $V_{9,5}$ números diferentes de cinco cifras, repetidas o no, considerando el conjunto de números $S_n$, donde $V_{9,5}$ se calcula como:\r\n",
        "\r\n",
        "$V_{9,5} = 9^{5} = 59.049$  \r\n",
        "\r\n",
        "Por otro lado, se obtienen $W_{4,4}$ combinaciones diferentes de 4 secuencias de operaciones, repetidas o no, considerando el conjunto $S_o$, donde $W_{4,4}$ se calcula como:\r\n",
        "\r\n",
        "$W_{4,4} = 4^{4} = 256$  \r\n",
        "\r\n",
        "Por tanto, sin tener en cuenta que el resultado de evaluar sea un número entero o no, que se usan 5 cifras numéricas del conjunto $S_n$ y que se usan 4 operaciones del conjunto $S_o$, siendo posible repetir algún elemento, el número total de posibles soluciones $Y$ son: \r\n",
        "\r\n",
        "$Y = V_{9,5} \\cdot W_{4,4} = 59.049 \\cdot 256 = 15.116.544$ soluciones.\r\n",
        "\r\n",
        "Por tanto, el espacio de posibles soluciones consiste en más de 15 millones de soluciones. Con este planteamiento, se reduce un orden de magnitud más con respecto al planteamiento 1 de 250 millones de soluciones posibles.\r\n",
        "\r\n",
        "Sin embargo, este segundo planteamiento, al no considerar todas las restricciones, permite repetir cifras numéricas u operadores, y por tanto, muchas de las posibles soluciones constituirán expresiones matemáticas que no se ajustan a las restricciones dadas en el enunciado."
      ]
    },
    {
      "cell_type": "code",
      "metadata": {
        "colab": {
          "base_uri": "https://localhost:8080/"
        },
        "id": "JOruvKJ0iyKV",
        "outputId": "efaf7aa4-6fcd-46be-f7d9-cb577b85aefc"
      },
      "source": [
        "import math\r\n",
        "#Función que calcula el número de variaciones con repetición de un conjunto de m elementos\r\n",
        "#donde se toman n elementos para formar cada variación\r\n",
        "def variaciones_rep(m,n):\r\n",
        "  return (m**n)\r\n",
        "\r\n",
        "#Función que calcula el número de variaciones sin repetición de un conjunto de m elementos\r\n",
        "#donde se toman n elementos para formar cada variación\r\n",
        "def variaciones(m,n):\r\n",
        "  return (math.factorial(m)/math.factorial(m-n))\r\n",
        "\r\n",
        "#S_global = {1,2,3,4,5,6,7,8,9,+,-,*,/}\r\n",
        "Sn  = list(range(1,10))\r\n",
        "So = list(\"+-*/\")\r\n",
        "S_global = Sn + So\r\n",
        "\r\n",
        "print(\"S_global:\"+ str(S_global))\r\n",
        "\r\n",
        "#Variaciones sin repetición del conjunto S_global tomando en cada variación 9 elementos\r\n",
        "m = len(S_global)\r\n",
        "n = 9\r\n",
        "\r\n",
        "#Variaciones con repetición del conjunto S_global tomando en cada variación 9 elementos\r\n",
        "V_rep = variaciones_rep(m,n)\r\n",
        "print(\"V_rep (Planteamiento 1) = \" + str(V_rep))\r\n",
        "\r\n",
        "#Variaciones sin repetición del conjunto S_global tomando en cada variación 9 elementos\r\n",
        "V = variaciones(m,n)\r\n",
        "print(\"V (Planteamiento 1) = \" + str(V))\r\n",
        "\r\n",
        "#Variaciones con repetición tomando por separado el conjunto Sn y el conjunto So tomando en cada variación 9 elementos\r\n",
        "m = len(Sn)\r\n",
        "n = 5\r\n",
        "V_n = variaciones_rep(m,n)\r\n",
        "\r\n",
        "m = len(So)\r\n",
        "n = 4\r\n",
        "V_o = variaciones_rep(m,n)\r\n",
        "\r\n",
        "V_rep= V_n*V_o\r\n",
        "print(\"V_rep (Planteamiento 2) = \" + str(V_rep))"
      ],
      "execution_count": null,
      "outputs": [
        {
          "output_type": "stream",
          "text": [
            "S_global:[1, 2, 3, 4, 5, 6, 7, 8, 9, '+', '-', '*', '/']\n",
            "V_rep (Planteamiento 1) = 10604499373\n",
            "V (Planteamiento 1) = 259459200.0\n",
            "V_rep (Planteamiento 2) = 15116544\n"
          ],
          "name": "stdout"
        }
      ]
    },
    {
      "cell_type": "markdown",
      "metadata": {
        "id": "qEP5DtfHdQX8"
      },
      "source": [
        "\r\n",
        "**¿Cuantas posibilidades hay teniendo en cuenta todas las restricciones?**"
      ]
    },
    {
      "cell_type": "markdown",
      "metadata": {
        "id": "lkvHA8s7lDdr"
      },
      "source": [
        "El cálculo del número de variaciones de la expresión general de 9 dígitos (restricción 1) dada por el formato de la restricción 2, donde no se permite la repetición de números (restricción 3) ni operaciones (restricción 4) en la expresión puede calcularse del siguiente modo:\r\n",
        "\r\n",
        "1. La primera cifra se elige entre 9 candidatos\r\n",
        "2. La primera operación se elige entre 4 candidatos\r\n",
        "3. La segunda cifra se elige entre 8 candidatos\r\n",
        "4. La segunda operación se elige entre 3 candidatos\r\n",
        "5. La tercera cifra se elige entre 7 candidatos\r\n",
        "6. La tercera operación se elige entre 2 candidatos\r\n",
        "7. La cuarta cifra se elige entre 6 candidatos\r\n",
        "8. La cuarta operación se elige entre 1 candidatos\r\n",
        "9. La quinta cifra se elige entre 5 candidatos\r\n",
        "\r\n",
        "Por tanto, el número de posibles expresiones considerando las restricciones 1,2,3 y 4 son:\r\n",
        "\r\n",
        "$V\\_res1234 = 9\\cdot4\\cdot8\\cdot3\\cdot7\\cdot2\\cdot6\\cdot1\\cdot5 = 362.880 $ soluciones \r\n",
        "\r\n",
        "Por tanto, existen 362.880 posibles soluciones cuya evaluación no se asegura que resulte en un número entero. Sin embargo, el espacio de soluciones se ha reducido considerablemente comparado con el espacio de soluciones de los planteamientos anteriores.\r\n",
        "\r\n",
        "Este mismo resultado puede derivarse desde otro prisma al tener en cuenta las restricciones es muy útil hacer uso del concepto de permutación. \r\n",
        "\r\n",
        "Si se tiene una colección de $n$ objetos distintos, el número de maneras diferentes que se pueden tomar un número $r$ de objetos de esa colección, con la condición de $r < n$, está dado por la formula general de la permutación:\r\n",
        "\r\n",
        "$P(n,r)=\\frac{n!}{(n-r)!}$.\r\n",
        "\r\n",
        "En el caso de las posibles combinaciones de números de 5 cifras tomando el conjunto $Sn$ definido anteriormente, se define $Vres$ como el número de combinaciones considerando la restricción de no repetir ningún número, donde $n$ es 9 y $r$ es 5 en la fórmula de la permutación:\r\n",
        "\r\n",
        "$Vres = P(9,5)=\\frac{9!}{(9-5)!}=15.120$.\r\n",
        "\r\n",
        "En el caso de las posibles combinaciones de 4 operaciones tomando el conjunto $So$ definido anteriormente, se define $Wres$ como el número de combinaciones considerando la restricción de no repetir ninguna operación, donde $n$ es 4 y $r$ es 4 en la fórmula de la permutación:\r\n",
        "\r\n",
        "$Wres = P(4,4)=\\frac{4!}{(4-4)!}=24$.\r\n",
        "\r\n",
        "Por tanto, sin tener en cuenta que el resultado de evaluar sea un número entero o no, que se usan 5 cifras numéricas del conjunto $S_n$ y que se usan 4 operaciones del conjunto $S_o$, con las restricciones de que no es posible repetir ningún elemento de la expresión, el número total de combinaciones $Y$ posibles son: \r\n",
        "\r\n",
        "$Y = Vres \\cdot Wres = 15.120 \\cdot 24 = 362.880$ soluciones."
      ]
    },
    {
      "cell_type": "markdown",
      "metadata": {
        "id": "dzynfVJahHoY"
      },
      "source": [
        "**Modelo para el espacio de soluciones<br>\n",
        "(*) ¿Cual es la estructura de datos que mejor se adapta al problema? Argumentalo.(Es posible que hayas elegido una al principio y veas la necesidad de cambiar, arguentalo)**\n"
      ]
    },
    {
      "cell_type": "markdown",
      "metadata": {
        "id": "bLYIvSBAmSJQ"
      },
      "source": [
        "Inicialmente se estableció la $tupla$ de python como estructura para almacenar cada una de las posibles soluciones de longitud 9 formadas por 5 cifras numéricas y 4 símbolos de operación elemental. \r\n",
        "\r\n",
        "Posteriormente, tras incidir en la idea de usar la permutación como método para obtener las distintos grupos de expresiones para una combinación dada, es necesario el intercambio (swap) de elementos de la expresión. Esta operación no está permitida con una tupla y, por ello, se dedice cambiar al formato $lista$ de python, que si permite realizar dicha operación.\r\n",
        "\r\n",
        "Además, la solución general consiste en una lista de listas, $int\\_list$, donde cada elemento de la lista principal tiene dos elementos. El primero es la expresión y el segundo el valor entero obtenido. \r\n",
        "\r\n",
        "$int\\_list = ((\"9+4/1-3*2\",7),(exp,value),(exp,value),...)$"
      ]
    },
    {
      "cell_type": "markdown",
      "metadata": {
        "id": "7Z9U2W7bi-XS"
      },
      "source": [
        "**Según el modelo para el espacio de soluciones<br>\n",
        "(*)¿Cual es la función objetivo?**  **(*)¿Es un problema de maximización o minimización?**"
      ]
    },
    {
      "cell_type": "markdown",
      "metadata": {
        "id": "SJN6A-LHm02l"
      },
      "source": [
        "En el caso de este problema, no existe una única solución óptima, si no que existe un espacio de soluciones válidas que cumplen las restricciones marcadas. Por tanto, el problema se enfoca dentro de los problemas de búsquedas de soluciones.\r\n",
        "\r\n",
        "Sin embargo, en caso de querer obtener el valor máximo o mínimo de las posibles expresiones matemáticas que se ajustan a las restricciones del problema, se plantean el siguiente problema de optimización:\r\n",
        "\r\n",
        "$min/max$ $x_{0}y_{0}x_{1}y_{1}x_{2}y_{2}x_{3}y_{3}x_{4} = d \\in \\mathbb Z$\r\n",
        "\r\n",
        "$s.a.$\r\n",
        "\r\n",
        "$1 \\leq x_{i} \\leq 9$ $\\forall i = 0,1,2,3,4$\r\n",
        "\r\n",
        "$x_{i} \\neq x_{j}$ $si$ $i \\neq j$, $\\forall i = 0,1,2,3,4$, $\\forall j = 0,1,2,3,4$\r\n",
        "\r\n",
        "$y_{k}\\in \\{+,-,*,/\\}$ $\\forall k = 0,1,2,3$\r\n",
        "\r\n",
        "$y_{k} \\neq y_{t}$ $si$ $k \\neq t$, $\\forall k = 0,1,2,3$, $\\forall t = 0,1,2,3$\r\n",
        "\r\n",
        "$x_{i}\\geq 0,$ $con$ $x_{i} \\in \\mathbb Z$ $\\forall i = 0,1,2,3,4$\r\n",
        "\r\n",
        "Por tanto, la función objetivo es $x_{0}y_{0}x_{1}y_{1}x_{2}y_{2}x_{3}y_{3}x_{4}$.\r\n",
        "\r\n",
        "\r\n",
        "\r\n"
      ]
    },
    {
      "cell_type": "markdown",
      "metadata": {
        "id": "rlnTYgY1j6I2"
      },
      "source": [
        "**Diseña un algoritmo para resolver el problema por fuerza bruta**"
      ]
    },
    {
      "cell_type": "code",
      "metadata": {
        "id": "XophAEmqUL2v"
      },
      "source": [
        "from time import time\r\n",
        "\r\n",
        "#Función que calcula el tiempo de ejecución\r\n",
        "def time_calc(f): \r\n",
        "    def wrapper(*args, **kwargs):      \r\n",
        "        init = time()       \r\n",
        "        result = f(*args, **kwargs)       \r\n",
        "        t_elapsed = time() - init\r\n",
        "        print(\"El tiempo de ejecución del algoritmo es de: \"+str(t_elapsed))\r\n",
        "        return result \r\n",
        "    return wrapper"
      ],
      "execution_count": null,
      "outputs": []
    },
    {
      "cell_type": "markdown",
      "metadata": {
        "id": "OyhI-ve2XQAH"
      },
      "source": [
        "*Función fuerza_bruta_1* que calcula con bucles anidados todo el espacio de soluciones posibles y evalúa la expresión resultante, guardando la expresión y el valor de la evaluación en caso de que sea entero."
      ]
    },
    {
      "cell_type": "code",
      "metadata": {
        "colab": {
          "base_uri": "https://localhost:8080/"
        },
        "id": "8ei4tROeT9SX",
        "outputId": "4fca3696-622c-4827-9da1-6261373f98da"
      },
      "source": [
        "from timeit import default_timer as timer\r\n",
        "import numpy as np\r\n",
        "import statistics\r\n",
        "\r\n",
        "#Función para calcular si un número es entero\r\n",
        "def integer_check(x):\r\n",
        "  if isinstance(x,int):\r\n",
        "    return True\r\n",
        "  elif isinstance(x,float) & x.is_integer():\r\n",
        "    return True\r\n",
        "  else:\r\n",
        "    return False\r\n",
        "\r\n",
        "#Algoritmo 1 basado en la fuerza bruta\r\n",
        "def fuerza_bruta_1(a,sign_list):\r\n",
        "  expresion_list = [] #Lista donde se almanenan las expresiones de las soluciones válidas\r\n",
        "  int_list = [] #Lista donde se almanenan los valores enteros de las soluciones válidas\r\n",
        "  max_global = -np.inf\r\n",
        "  min_global = np.inf\r\n",
        "  for i in a:\r\n",
        "    for j in a:\r\n",
        "      if i!=j:\r\n",
        "        for sign1 in sign_list:\r\n",
        "          for k in a:\r\n",
        "            if (k!=i) & (k!=j):\r\n",
        "              for sign2 in sign_list:\r\n",
        "                if sign2!=sign1:\r\n",
        "                  for l in a:\r\n",
        "                    if (l!=i) & (l!=j) & (l!=k):\r\n",
        "                      for sign3 in sign_list:\r\n",
        "                        if (sign3!=sign1) & (sign3!=sign2):\r\n",
        "                          for m in a:\r\n",
        "                            if (m!=i) & (m!=j) & (m!=k) & (m!=l):\r\n",
        "                              for sign4 in sign_list:\r\n",
        "                                if (sign4!=sign1) & (sign4!=sign2) & (sign4!=sign3):\r\n",
        "                                  evaluation = eval(str(i)+sign1+str(j)+sign2+str(k)+sign3+str(l)+sign4+str(m)) #Evaluar expresión \r\n",
        "                                  if integer_check(evaluation):#Comprobar si el resultado es un número entero o no\r\n",
        "                                    expresion_list.append(str(i)+sign1+str(j)+sign2+str(k)+sign3+str(l)+sign4+str(m)) #En caso de que sea entero se guarda la expresión\r\n",
        "                                    int_list.append(int(evaluation)) #En caso de que sea entero se guarda el valor entero\r\n",
        "                                    if evaluation > max_global:\r\n",
        "                                      max_global = evaluation\r\n",
        "                                    elif evaluation < min_global:\r\n",
        "                                      min_global = evaluation\r\n",
        "  return expresion_list, int_list, max_global, min_global\r\n",
        "\r\n",
        "#Llamada a la función principal\r\n",
        "\r\n",
        "a = list(range(1,10))\r\n",
        "sign_list = [\"+\",\"-\",\"*\",\"/\"]\r\n",
        "expresion_list, int_list, max_global, min_global = fuerza_bruta_1(a,sign_list)\r\n",
        "\r\n",
        "#Resultados\r\n",
        "print(\"FUERZA BRUTA MÉTODO 1: RESULTADOS---------------------------------------\")\r\n",
        "print(\"El espacio de soluciones acotado por las restricciones es de: \"+ str(len(expresion_list)))\r\n",
        "print(\"El valor máximo encontrado es: \" + str(max_global))\r\n",
        "print(\"El valor mínimo encontrado es: \" + str(min_global))\r\n",
        "\r\n",
        "#Tiempo de ejecución tras n ejecuciones\r\n",
        "number_ex = 10\r\n",
        "time_total_brute_1 = []\r\n",
        "for ex in range(number_ex):\r\n",
        "  start = timer()\r\n",
        "  expresion_list, int_list, max_global, min_global = fuerza_bruta_1(a,sign_list)\r\n",
        "  end = timer()\r\n",
        "  time_total_brute_1.append([end-start])\r\n",
        "print(\"El tiempo de ejecución medio (+- s.d.) del algoritmo tras \" + str(number_ex) +\" ejecuciones es de \"+str(round(np.mean(time_total_brute_1),3))+\" +- \"+ str(round(np.std(time_total_brute_1),3)) +\" segundos\")"
      ],
      "execution_count": 28,
      "outputs": [
        {
          "output_type": "stream",
          "text": [
            "FUERZA BRUTA MÉTODO 1: RESULTADOS---------------------------------------\n",
            "El espacio de soluciones acotado por las restricciones es de: 90000\n",
            "El valor máximo encontrado es: 77.0\n",
            "El valor mínimo encontrado es: -69.0\n",
            "El tiempo de ejecución medio (+- s.d.) del algoritmo tras 10 ejecuciones es de 3.398 +- 0.052 segundos\n"
          ],
          "name": "stdout"
        }
      ]
    },
    {
      "cell_type": "markdown",
      "metadata": {
        "id": "0ObVIrz3XgXO"
      },
      "source": [
        "Función fuerza_bruta_2 que hace uso del método permutations de la librería itertools para el cálculo de las variaciones del conjunto numérico y del conjunto de operadores. De este modo, solo son necesarios dos bucles que combinan las cifras numéricas y los operadores, insertando en el lugar apropiado\r\n",
        "cada elemento."
      ]
    },
    {
      "cell_type": "code",
      "metadata": {
        "colab": {
          "base_uri": "https://localhost:8080/"
        },
        "id": "NSThDlRwXL0I",
        "outputId": "5c7b0ec6-dcb9-4fb1-b083-fb014f38c149"
      },
      "source": [
        "##################################################################################\r\n",
        "import numpy as np\r\n",
        "from itertools import permutations\r\n",
        "from timeit import default_timer as timer\r\n",
        "\r\n",
        "#Función para calcular si un número es entero\r\n",
        "def integer_check(x):\r\n",
        "  if isinstance(x,int):\r\n",
        "    return True\r\n",
        "  elif isinstance(x,float) & x.is_integer():\r\n",
        "    return True\r\n",
        "  else:\r\n",
        "    return False\r\n",
        "\r\n",
        "#Algoritmo 2 basado en la fuerza bruta\r\n",
        "def fuerza_bruta_2(a,sign_list):\r\n",
        "  #PASO1. Cálcular todas las variaciones numéricas sin repetición de longitud 5 dada el conjunto Sn = range(1,10)\r\n",
        "  numbers_list = []\r\n",
        "  for t in permutations(a, 5):\r\n",
        "          numbers_list.append(list(t))\r\n",
        "\r\n",
        "  ##################################################################################\r\n",
        "  #PASO2.Calcular todas las variaciones sin repetición de los operadores dado el conjunto So = {+,-,*,/}\r\n",
        "  oper_list = []\r\n",
        "  for t in permutations(sign_list, 4):\r\n",
        "          oper_list.append(list(t))\r\n",
        "\r\n",
        "  ##################################################################################\r\n",
        "  #Paso 3. Unir cada secuencia numérica y cada secuencia de operadores, insertando cada operador en la posición correcta\r\n",
        "  expresion_list = [] #Lista donde se almanenan las expresiones de las soluciones válidas\r\n",
        "  int_list = [] #Lista donde se almanenan los valores enteros de las soluciones válidas\r\n",
        "  max_global = -np.inf\r\n",
        "  min_global = np.inf\r\n",
        "  for numbers in numbers_list:\r\n",
        "    for oper in oper_list:\r\n",
        "      temp = numbers.copy()\r\n",
        "      temp.insert(1, oper[0])\r\n",
        "      temp.insert(3, oper[1])\r\n",
        "      temp.insert(5, oper[2])\r\n",
        "      temp.insert(7, oper[3])\r\n",
        "      temp_str = [str(integer) for integer in temp] #Convert int in str\r\n",
        "      temp_join = \"\".join(temp_str)#Join the expression\r\n",
        "      evaluation = eval(temp_join) #Evaluar expresión y \r\n",
        "      if integer_check(evaluation):#Comprobar si el resultado es un número entero o no\r\n",
        "        expresion_list.append(temp_join) #En caso de que sea entero se guarda en la variable int_list\r\n",
        "        int_list.append(int(evaluation)) #En caso de que sea entero se guarda en la variable int_list\r\n",
        "        if evaluation > max_global:\r\n",
        "          max_global = evaluation\r\n",
        "        elif evaluation < min_global:\r\n",
        "          min_global = evaluation\r\n",
        "  return expresion_list, int_list, max_global, min_global\r\n",
        "\r\n",
        "#Ejecución del programa principal\r\n",
        "a = list(range(1,10))\r\n",
        "sign_list = [\"+\",\"-\",\"*\",\"/\"]\r\n",
        "expresion_list, int_list, max_global, min_global = fuerza_bruta_2(a,sign_list)\r\n",
        "\r\n",
        "#Resultados\r\n",
        "print(\"FUERZA BRUTA MÉTODO 2: RESULTADOS---------------------------------------\")\r\n",
        "print(\"El espacio de soluciones acotado por las restricciones es de: \"+ str(len(expresion_list)))\r\n",
        "print(\"El valor máximo encontrado es: \" + str(max_global))\r\n",
        "print(\"El valor mínimo encontrado es: \" + str(min_global))\r\n",
        "\r\n",
        "#Tiempo de ejecución tras n ejecuciones\r\n",
        "number_ex = 10\r\n",
        "time_total_brute_2 = []\r\n",
        "for ex in range(number_ex):\r\n",
        "  start = timer()\r\n",
        "  expresion_list, int_list, max_global, min_global = fuerza_bruta_2(a,sign_list)\r\n",
        "  end = timer()\r\n",
        "  time_total_brute_2.append([end-start])\r\n",
        "print(\"El tiempo de ejecución medio (+- s.d.) del algoritmo tras \" + str(number_ex) +\" ejecuciones es de \"+str(round(np.mean(time_total_brute_2),3))+\" +- \"+ str(round(np.std(time_total_brute_2),3)) +\" segundos\")"
      ],
      "execution_count": 33,
      "outputs": [
        {
          "output_type": "stream",
          "text": [
            "FUERZA BRUTA MÉTODO 2: RESULTADOS---------------------------------------\n",
            "El espacio de soluciones acotado por las restricciones es de: 90000\n",
            "El valor máximo encontrado es: 77.0\n",
            "El valor mínimo encontrado es: -69.0\n",
            "El tiempo de ejecución medio (+- s.d.) del algoritmo tras 10 ejecuciones es de 3.652 +- 0.025 segundos\n"
          ],
          "name": "stdout"
        }
      ]
    },
    {
      "cell_type": "markdown",
      "metadata": {
        "id": "eMdZTo9B6S8E"
      },
      "source": [
        "**¿Qué valor máximo y mínimo se pueden obtener según las condiciones del problema?**\r\n",
        "\r\n"
      ]
    },
    {
      "cell_type": "markdown",
      "metadata": {
        "id": "7h0HQtVd63Ae"
      },
      "source": [
        "*Cálculo del valor máximo:*\r\n",
        "\r\n",
        "1) Se realiza la multiplicación con la pareja de valores máxima, en este caso el 9 y el 8:\r\n",
        "\r\n",
        "$9\\cdot8$\r\n",
        "\r\n",
        "2) Se suma a 1) el valor máximo del conjunto de números no utilizados, en este caso el 7:\r\n",
        "\r\n",
        "$9\\cdot8+7$\r\n",
        "\r\n",
        "3) La resta y la división son los operadores restantes y el conjunto de números no usados es el $\\{1,2,3,4,5,6\\}$. Para maximizar la expresión, la resta debe ser la mínima posible y la división debe ser entera. Esto restringe a las siguientes expresiones cuyo resultado es equivalente e igual a -2:\r\n",
        "\r\n",
        "$-6/3, -4/2$ y $-2/1$\r\n",
        "\r\n",
        "4) Con todo lo anterior, el valor máximo se obtiene como:\r\n",
        "$9\\cdot8+7-2 = 77$\r\n",
        "\r\n",
        "Posible soluciones se expresan del siguiente modo:\r\n",
        "\r\n",
        "$9\\cdot8+7-6/3$ \r\n",
        "\r\n",
        "$9\\cdot8+7-4/2$ \r\n",
        "\r\n",
        "$9\\cdot8+7-2/1$\r\n",
        "\r\n",
        "*Cálculo del valor mínimo:*\r\n",
        "\r\n",
        "1) El valor negativo mínimo se consigue como la multiplicación con la pareja de valores más altos, en este caso el 9 y el 8:\r\n",
        "\r\n",
        "$-9\\cdot8$\r\n",
        "\r\n",
        "2) La suma y la división son los operadores restantes y el conjunto de números no usados es el $\\{1,2,3,4,5,6,7\\}$. Para minimizar la expresión, la suma debe ser la mínima posible y la división debe ser entera. Por tanto, el valor mínimo que se puede sumar es 1. Esto restringe a las siguientes expresiones cuyo resultado es equivalente e igual a 3:\r\n",
        "\r\n",
        "$1+6/3$ y $1+4/2$\r\n",
        "\r\n",
        "3) Con todo lo anterior, el valor mínimo se obtiene como:\r\n",
        "$1+2-72 = 69$\r\n",
        "$2-9\\cdot8 = -69$\r\n",
        "\r\n",
        "Posible soluciones se expresan del siguiente modo:\r\n",
        "\r\n",
        "$1+6/3-9\\cdot8$ \r\n",
        "\r\n",
        "$1+4/2-9\\cdot8$ "
      ]
    },
    {
      "cell_type": "markdown",
      "metadata": {
        "id": "Ld9MuBCG6Yqc"
      },
      "source": [
        "**¿Es posible encontrar todos los valores enteros posibles entre dicho mínimo y máximo ?**"
      ]
    },
    {
      "cell_type": "markdown",
      "metadata": {
        "id": "xfQtrJUI_C4h"
      },
      "source": [
        "Se comprueba que para este problema, el conjunto de números enteros contenidos en el rando $[-69,77]$ está cubierto; es decir, que están presentes todos los números enteros intermedios entre el rango mínimo y el máximo."
      ]
    },
    {
      "cell_type": "code",
      "metadata": {
        "colab": {
          "base_uri": "https://localhost:8080/"
        },
        "id": "aTy1OaAZZBRB",
        "outputId": "e154efb2-009d-4318-8965-0afaddf1c9bd"
      },
      "source": [
        "#1. Definición de los conjuntos numéricos y de operadores\r\n",
        "num_list = list(range(1,10))\r\n",
        "oper_list = [\"+\",\"-\",\"*\",\"/\"]\r\n",
        "\r\n",
        "#2. Llamada a la función que calcula las soluciones mediante la fuerza bruta con el método 1\r\n",
        "expresion_list, int_list, max_global, min_global = fuerza_bruta_1(num_list,oper_list)\r\n",
        "\r\n",
        "#3. Se usa set de python para obtener el conjunto único de enteros de todas las soluciones obtenidas\r\n",
        "set_of_unique_integers = set(int_list)\r\n",
        "\r\n",
        "#4. Se ordena el conjunto de enteros y se calcula la diferencia con el el elemento anterior\r\n",
        "completeness_array = np.diff(list(sorted(set_of_unique_integers)))\r\n",
        "\r\n",
        "#5. Se comprueba que la diferencia de un elemento con el siguiente es 1 para todo el array.\r\n",
        "#De este modo, se comprueba que todos los elementos intermedios están contenidos en el conjunto\r\n",
        "completeness_flag = all(x==1 for x in completeness_array)\r\n",
        "if completeness_flag:\r\n",
        "  print(\"Se verifica que el conjunto de números enteros comprendido entre \"+str(min_global)+\" y \"+str(max_global)+\" se encuentra completamente cubierto (ver variable completeness_flag)\")\r\n",
        "else:\r\n",
        "  print(\"Se verifica que el conjunto de números enteros comprendido entre \"+str(min_global)+\" y \"+str(max_global)+\" no se encuentra completamente cubierto (ver variable completeness_flag)\")"
      ],
      "execution_count": 17,
      "outputs": [
        {
          "output_type": "stream",
          "text": [
            "Se verifica que el conjunto de números enteros comprendido entre -69.0 y 77.0 se encuentra completamente cubierto (ver variable completeness_flag)\n"
          ],
          "name": "stdout"
        }
      ]
    },
    {
      "cell_type": "code",
      "metadata": {
        "colab": {
          "base_uri": "https://localhost:8080/"
        },
        "id": "XdKna-ME-8bD",
        "outputId": "6adc1850-8978-4309-ba29-55042304f809"
      },
      "source": [
        "#1. Se usa set de python para obtener el conjunto único de enteros de todas las soluciones obtenidas\r\n",
        "set_of_unique_integers = set(int_list)\r\n",
        "#2. Se ordena el conjunto de enteros y se calcula la diferencia con el el elemento anterior\r\n",
        "completeness_array = np.diff(list(sorted(set_of_unique_integers)))\r\n",
        "#3. Se comprueba que la diferencia de un elemento con el siguiente es 1 para todo el array.\r\n",
        "#De este modo, se comprueba que todos los elementos intermedios están contenidos en el conjunto\r\n",
        "completeness_flag = all(x==1 for x in completeness_array)\r\n",
        "if completeness_flag:\r\n",
        "  print(\"Se verifica que el conjunto de números enteros comprendido entre \"+str(min_global)+\" y \"+str(max_global)+\" se encuentra completamente cubierto (ver variable completeness_flag)\")\r\n",
        "else:\r\n",
        "  print(\"Se verifica que el conjunto de números enteros comprendido entre \"+str(min_global)+\" y \"+str(max_global)+\" no se encuentra completamente cubierto (ver variable completeness_flag)\")"
      ],
      "execution_count": 18,
      "outputs": [
        {
          "output_type": "stream",
          "text": [
            "Se verifica que el conjunto de números enteros comprendido entre -69.0 y 77.0 se encuentra completamente cubierto (ver variable completeness_flag)\n"
          ],
          "name": "stdout"
        }
      ]
    },
    {
      "cell_type": "markdown",
      "metadata": {
        "id": "tgrnsC2nkFa8"
      },
      "source": [
        "**Calcula la complejidad del algoritmo por fuerza bruta**"
      ]
    },
    {
      "cell_type": "markdown",
      "metadata": {
        "id": "9eUd3xwckP68"
      },
      "source": [
        "Tal y como se ha detallado en el cálculo de las soluciones posibles teniendo en cuenta las restricciones. Los números se van escogiendo del conjunto $S_n$ inicial de lontigud, $n$. Cada vez que se toma un valor la longitud del espacio $S_n$ se reduce en 1, puesto que se elimina el valor ya tomado para no repetir cifras en la expresión.\r\n",
        "\r\n",
        "De este modo, la complejidad para las cifras numéricas es igual a:\r\n",
        "\r\n",
        "$n\\cdot n-1 \\cdot n-2 \\cdot n-3 \\cdot n-4$\r\n",
        "\r\n",
        "Por otro lado, la selección de elementos del conjunto $S_o$ de operaciones es idéntica. En este caso, la longitud inicial del conjunto es $m$.\r\n",
        "\r\n",
        "De este modo, la complejidad para los operadores matemáticos es igual a:\r\n",
        "\r\n",
        "$m\\cdot m-1 \\cdot m-2 \\cdot m-3$\r\n",
        "\r\n",
        "La complejidad total del algoritmo se calcula como la combinación de lo anterior, resultando en :\r\n",
        "$O((n\\cdot n-1 \\cdot n-2 \\cdot n-3 \\cdot n-4)\\cdot (m\\cdot m-1 \\cdot m-2 \\cdot m-3))$\r\n",
        "\r\n",
        "Particualarizando para n = 9 y m = 4, se obtiene:\r\n",
        "$O(9*8*7*6*5*4*3*2*1)$ que en este caso es igual a $O(n!)$\r\n"
      ]
    },
    {
      "cell_type": "markdown",
      "metadata": {
        "id": "txbrmLmskReM"
      },
      "source": [
        "**(*)Diseña un algoritmo que mejore la complejidad del algoritmo por fuerza bruta. Argumenta porque crees que mejora el algoritmo por fuerza bruta**"
      ]
    },
    {
      "cell_type": "markdown",
      "metadata": {
        "id": "hLrVwt5QkZPD"
      },
      "source": [
        "Como alternativa al algoritmo de fuerza bruta, se diseña un algoritmo basado en técnica de backtracking que hace uso de la recursividad. Para ello, se calcula en primer lugar todas las posibles combinaciones numéricas del conjunto numérico dado. En combinaciones el orden no importa, por tanto, 1 2 3 4 5, es lo mismo que 2 1 3 4 5, ya que me darán las mismas combinaciones.\r\n",
        "Posteriormente, aplico para cada combinación el método de backtracking que permite realizar todas las permutaciones de esa combinación inicial, aplicada tanto a números como a los operadores matemáticos.\r\n",
        "\r\n",
        "Además, aprovechando que se construye un árbol conceptual, es posible descartar soluciones intermedias sin necesidad de llegar al nodo de dicho árbol conceptual. En este caso, la naturaleza del problema permite descartar expresiones que contengan multiplicaciones y divisiones consecutivas, cuyo resultado no sea entero, ya que independientemente del resto de la expresión (suma y resta) la expresión completa tampoco será entera. Es decir, se emplea una técnica de poda del árbol conceptual comprobando si:\r\n",
        "\r\n",
        "$num1 \\cdot num2 / num3$\r\n",
        "\r\n",
        "ó\r\n",
        "\r\n",
        "$num1 / num2 \\cdot num3$\r\n",
        "\r\n",
        "arrojan números no enteros. En caso afirmativo, se deja de explorar en profundidad el árbol en profundidad (dejando de aplicar la recursividad).\r\n"
      ]
    },
    {
      "cell_type": "markdown",
      "metadata": {
        "id": "zwZnVMwKTZXI"
      },
      "source": [
        "*MÉTODO BACKTRACKING 1*"
      ]
    },
    {
      "cell_type": "code",
      "metadata": {
        "colab": {
          "base_uri": "https://localhost:8080/"
        },
        "id": "oLH6sA38_2Ge",
        "outputId": "f3c41a31-4375-4f27-e155-ef1accb3ec0a"
      },
      "source": [
        "#################################################################################\r\n",
        "# A Python program to print all  \r\n",
        "# combinations of given length \r\n",
        "from itertools import combinations\r\n",
        "import numpy as np\r\n",
        "from timeit import default_timer as timer\r\n",
        "\r\n",
        "#Función para calcular si un número es entero\r\n",
        "def integer_check(x):\r\n",
        "  if isinstance(x,int):\r\n",
        "    return True\r\n",
        "  elif isinstance(x,float) & x.is_integer():\r\n",
        "    return True\r\n",
        "  else:\r\n",
        "    return False\r\n",
        "\r\n",
        "#Paso 1. Backtracking método con poda\r\n",
        "\r\n",
        "#Función que realiza las permutaciones de la expresion dada,\r\n",
        "#entre números y entre operadores, haciendo uso del backtracking\r\n",
        "#con poda en la expresión\r\n",
        "def backtracking_method_1(a, l, r, expresion_list, int_list, max_global, min_global):\r\n",
        "  flag = []\r\n",
        "  flag = True\r\n",
        "  if (l>=5):\r\n",
        "    if (((a[1]==\"/\")&(a[3]==\"*\")) or ((a[1]==\"*\")&(a[3]==\"/\"))):\r\n",
        "      temp_str = [str(integer) for integer in a[0:5]] #Convert int in str\r\n",
        "      temp_join = \"\".join(temp_str)#Join the expression\r\n",
        "      evaluation = eval(temp_join) #Evaluar expresión y\r\n",
        "      if integer_check(evaluation)==False:#Comprobar si el resultado es un número entero o no\r\n",
        "        flag = False\r\n",
        "        pass\r\n",
        "  if flag == True:\r\n",
        "    if l==r: \r\n",
        "      temp_str = [str(integer) for integer in a] #Convert int in str\r\n",
        "      temp_join = \"\".join(temp_str)#Join the expression\r\n",
        "      evaluation = eval(temp_join) #Evaluar expresión \r\n",
        "      if integer_check(evaluation):\r\n",
        "        expresion_list.append(a.copy())\r\n",
        "        int_list.append(evaluation)\r\n",
        "        if evaluation > max_global:\r\n",
        "          max_global = evaluation\r\n",
        "        elif evaluation < min_global:\r\n",
        "          min_global = evaluation\r\n",
        "    else: \r\n",
        "      for i in range(l,r+1,2): \r\n",
        "        a[l], a[i] = a[i], a[l] # backtrack \r\n",
        "        expresion_list, int_list, max_global, min_global = backtracking_method_1(a, l+1, r, expresion_list, int_list, max_global, min_global)    \r\n",
        "        a[l], a[i] = a[i], a[l] # backtrack \r\n",
        "  return expresion_list, int_list, max_global, min_global\r\n",
        "     \r\n",
        "#Paso 2. Programa principal que itera entre cada combinación única de números (Paso 1)\r\n",
        "#y aplica las permutaciones sobre la expresion haciendo uso de la función backtracking_method \r\n",
        "def backtracking_method_main_1(n, expresion_list, int_list, max_global, min_global, comb):\r\n",
        "  comb_list = []\r\n",
        "  for i in list(comb): \r\n",
        "      comb_list.append(i)\r\n",
        "  for comb in comb_list:\r\n",
        "    a = list(comb)\r\n",
        "    a.insert(1, oper_list[0])\r\n",
        "    a.insert(3, oper_list[1])\r\n",
        "    a.insert(5, oper_list[2])\r\n",
        "    a.insert(7, oper_list[3])\r\n",
        "    expresion_list, int_list, max_global, min_global = backtracking_method_1(a, 0, n-1, expresion_list, int_list, max_global, min_global)\r\n",
        "  return expresion_list, int_list, max_global, min_global\r\n",
        "\r\n",
        "string_type = \"1/2*3-4+5\"\r\n",
        "n = len(string_type) \r\n",
        "expresion_list = [] #Lista donde se almacenan las expresiones de las soluciones válidas\r\n",
        "int_list = [] #Lista donde se almanenan los valores enteros de las soluciones válidas\r\n",
        "oper_list = [\"*\",\"/\",\"+\",\"-\"] #Lista de operadores\r\n",
        "comb = combinations([1,2,3,4,5,6,7,8,9], 5) #Obtener todas las combinaciones del conjunto numérico Sn = {1,2,3,4,5,6,7,8,9}\r\n",
        "max_global = -np.inf\r\n",
        "min_global = np.inf\r\n",
        "expresion_list, int_list, max_global, min_global = backtracking_method_main_1(n,expresion_list, int_list, max_global, min_global,comb)\r\n",
        "\r\n",
        "#Paso 4. Impresión de resultados\r\n",
        "print(\"MÉTODO BACKTRACKING 1: RESULTADOS---------------------------------------\")\r\n",
        "print(\"El espacio de soluciones acotado por las restricciones es de: \"+ str(len(expresion_list)))\r\n",
        "print(\"El valor máximo encontrado es: \" + str(max_global))\r\n",
        "print(\"El valor mínimo encontrado es: \" + str(min_global))\r\n",
        "\r\n",
        "#Paso 5. Tiempo de ejecución tras n ejecuciones\r\n",
        "number_ex = 10\r\n",
        "time_total_backtracking_1 = []\r\n",
        "for ex in range(number_ex):\r\n",
        "  expresion_list = [] #Lista donde se almacenan las expresiones de las soluciones válidas\r\n",
        "  int_list = [] #Lista donde se almanenan los valores enteros de las soluciones válidas\r\n",
        "  oper_list = [\"*\",\"/\",\"+\",\"-\"] #Lista de operadores\r\n",
        "  comb = combinations([1,2,3,4,5,6,7,8,9], 5) #Obtener todas las combinaciones del conjunto numérico Sn = {1,2,3,4,5,6,7,8,9}\r\n",
        "  max_global = -np.inf\r\n",
        "  min_global = np.inf\r\n",
        "  start = timer()\r\n",
        "  expresion_list, int_list, max_global, min_global = backtracking_method_main_1(n,expresion_list, int_list, max_global, min_global,comb)\r\n",
        "  end = timer()\r\n",
        "  time_total_backtracking_1.append([end-start])\r\n",
        "print(\"El tiempo de ejecución medio (+- s.d.) del algoritmo tras \" + str(number_ex) +\" ejecuciones es de \"+str(round(np.mean(time_total_backtracking_1),3))+\" +- \"+ str(round(np.std(time_total_backtracking_1),3)) +\" segundos\")"
      ],
      "execution_count": 27,
      "outputs": [
        {
          "output_type": "stream",
          "text": [
            "MÉTODO BACKTRACKING 1: RESULTADOS---------------------------------------\n",
            "El espacio de soluciones acotado por las restricciones es de: 90000\n",
            "El valor máximo encontrado es: 77.0\n",
            "El valor mínimo encontrado es: -69.0\n",
            "El tiempo de ejecución medio (+- s.d.) del algoritmo tras 10 ejecuciones es de 4.462 +- 0.025 segundos\n"
          ],
          "name": "stdout"
        }
      ]
    },
    {
      "cell_type": "markdown",
      "metadata": {
        "id": "t4FCuc-sTS3R"
      },
      "source": [
        "*MÉTODO BACKTRACKING 2*\r\n",
        "\r\n",
        "Se decide diseñar e implementar una variación de la técnica de poda basada en la misma estrategía que la planteada en el primer algoritmo basado en backtracking.\r\n",
        "\r\n",
        "La diferencia aquí, radica en que puesto que se conoce el conjunto numérico de partida, se calculan dos matrices $MUL$ y $DIV$. La matriz $MUL$ es una matriz de dimensiones 9X9x9 donde se guarda con un 1 si la expresion\r\n",
        "$num1 \\cdot num2 / num3$ es numéro entero y 0 en caso contrario.\r\n",
        "La fila (primera dimensión de la matriz) es el $num1$, la columna (segunda dimensión de la matriz) es el $num2$ y la tercera dimensión (profunidad) es el valor numérico 1 o 0, evaluado para cada $num3$. Puesto que la cardinalidad del conjunto numérico es 9, se evalúan todas las expresiones posibles y se almacena el valor correspondiente que nos indica si el resultado es entero o no.\r\n",
        "\r\n",
        "Por su parte, en la matriz $DIV$ se procede del mismo modo, con la diferencia que se evalúa la expresión $num1 / num2 \\cdot num3$.\r\n",
        "\r\n",
        "De este modo, en lugar de evaluar cada posible expresión intermedia, con el problema de evaluar en repetidas ocasiones expresiones idénticas, se evalúa una sola vez inicialmente, y en la poda del árbol conceptual en la ejecución del backtracking simplemente se extrae el valor binario de la celda correspondiente de la matriz."
      ]
    },
    {
      "cell_type": "code",
      "metadata": {
        "colab": {
          "base_uri": "https://localhost:8080/"
        },
        "id": "B1jSLu2BIzMz",
        "outputId": "5afb92d4-714f-4250-96b5-d6aafe62bd65"
      },
      "source": [
        "#################################################################################\r\n",
        "# A Python program to print all  \r\n",
        "# combinations of given length \r\n",
        "from itertools import combinations\r\n",
        "from timeit import default_timer as timer\r\n",
        "import numpy as np\r\n",
        "\r\n",
        "#Función para calcular si un número es entero\r\n",
        "def integer_check(x):\r\n",
        "  if isinstance(x,int):\r\n",
        "    return True\r\n",
        "  elif isinstance(x,float) & x.is_integer():\r\n",
        "    return True\r\n",
        "  else:\r\n",
        "    return False\r\n",
        "\r\n",
        "#Paso 1. Backtracking método con poda\r\n",
        "\r\n",
        "#Función que realiza las permutaciones de la expresion dada,\r\n",
        "#entre números y entre operadores, haciendo uso del backtracking\r\n",
        "#con poda en la expresión\r\n",
        "def backtracking_method_2(MUL, DIV, a, l, r, expresion_list, int_list, max_global, min_global):\r\n",
        "  flag = []\r\n",
        "  flag = True\r\n",
        "  if (l>=5):\r\n",
        "    if (a[1]==\"/\")&(a[3]==\"*\"):\r\n",
        "      flag = DIV[a[0]-1][a[2]-1][a[4]-1]\r\n",
        "      pass\r\n",
        "    elif (a[1]==\"*\")&(a[3]==\"/\"):\r\n",
        "      flag = MUL[a[0]-1][a[2]-1][a[4]-1]\r\n",
        "      pass\r\n",
        "  if flag == True:\r\n",
        "    if l==r: \r\n",
        "      temp_str = [str(integer) for integer in a] #Convert int in str\r\n",
        "      temp_join = \"\".join(temp_str)#Join the expression\r\n",
        "      evaluation = eval(temp_join) #Evaluar expresión \r\n",
        "      if integer_check(evaluation):\r\n",
        "        expresion_list.append(a.copy())\r\n",
        "        int_list.append(evaluation)\r\n",
        "        if evaluation > max_global:\r\n",
        "          max_global = evaluation\r\n",
        "        elif evaluation < min_global:\r\n",
        "          min_global = evaluation\r\n",
        "    else: \r\n",
        "      for i in range(l,r+1,2): \r\n",
        "        a[l], a[i] = a[i], a[l] # backtrack \r\n",
        "        expresion_list, int_list, max_global, min_global = backtracking_method_2(MUL, DIV, a, l+1, r, expresion_list, int_list, max_global, min_global)    \r\n",
        "        a[l], a[i] = a[i], a[l] # backtrack \r\n",
        "  return expresion_list, int_list, max_global, min_global\r\n",
        "     \r\n",
        "#Paso 2. Programa principal que itera entre cada combinación única de números (Paso 1)\r\n",
        "#y aplica las permutaciones sobre la expresion haciendo uso de la función backtracking_method \r\n",
        "def backtracking_method_main_2(n, expresion_list, int_list, max_global, min_global, comb):\r\n",
        "  #Paso previo. Calcular matriz de comprobación intermedias\r\n",
        "  n = 9\r\n",
        "  MUL = [[[False for k in range(n)] for j in range(n)] for i in range(n)]\r\n",
        "  DIV = [[[False for k in range(n)] for j in range(n)] for i in range(n)]\r\n",
        "\r\n",
        "  for row in range(n):\r\n",
        "    for col in range(n):\r\n",
        "      for bit in range(n):\r\n",
        "        evaluation_MUL = eval(str(row+1)+\"*\"+str(col+1)+\"/\"+str(bit+1))\r\n",
        "        evaluation_DIVI = eval(str(row+1)+\"/\"+str(col+1)+\"*\"+str(bit+1))\r\n",
        "        if integer_check(evaluation_MUL):\r\n",
        "          MUL[row][col][bit] = True\r\n",
        "        else:\r\n",
        "          MUL[row][col][bit] = False\r\n",
        "        if integer_check(evaluation_DIVI):\r\n",
        "          DIV[row][col][bit] = True\r\n",
        "        else:\r\n",
        "          DIV[row][col][bit] = False\r\n",
        "  #Iteración de cada una de las combinaciones y apliacción del método basado en backtracking\r\n",
        "  comb_list = []\r\n",
        "  for i in list(comb): \r\n",
        "      comb_list.append(i)\r\n",
        "  for comb in comb_list:\r\n",
        "    a = list(comb)\r\n",
        "    a.insert(1, oper_list[0])\r\n",
        "    a.insert(3, oper_list[1])\r\n",
        "    a.insert(5, oper_list[2])\r\n",
        "    a.insert(7, oper_list[3])\r\n",
        "    expresion_list, int_list, max_global, min_global = backtracking_method_2(MUL, DIV, a, 0, n-1, expresion_list, int_list, max_global, min_global)\r\n",
        "  return expresion_list, int_list, max_global, min_global\r\n",
        "\r\n",
        "string_type = \"1/2*3-4+5\"\r\n",
        "n = len(string_type) \r\n",
        "expresion_list = [] #Lista donde se almacenan las expresiones de las soluciones válidas\r\n",
        "int_list = [] #Lista donde se almanenan los valores enteros de las soluciones válidas\r\n",
        "oper_list = [\"*\",\"/\",\"+\",\"-\"] #Lista de operadores\r\n",
        "comb = combinations([1,2,3,4,5,6,7,8,9], 5) #Obtener todas las combinaciones del conjunto numérico Sn = {1,2,3,4,5,6,7,8,9}\r\n",
        "max_global = -np.inf\r\n",
        "min_global = np.inf\r\n",
        "expresion_list, int_list, max_global, min_global = backtracking_method_main_2(n,expresion_list, int_list, max_global, min_global,comb)\r\n",
        "\r\n",
        "#Paso 4. Impresión de resultados\r\n",
        "print(\"MÉTODO BACKTRACKING 2: RESULTADOS---------------------------------------\")\r\n",
        "print(\"El espacio de soluciones acotado por las restricciones es de: \"+ str(len(expresion_list)))\r\n",
        "print(\"El valor máximo encontrado es: \" + str(max_global))\r\n",
        "print(\"El valor mínimo encontrado es: \" + str(min_global))\r\n",
        "\r\n",
        "#Paso 5. Tiempo de ejecución tras n ejecuciones\r\n",
        "number_ex = 10\r\n",
        "time_total_backtracking_2 = []\r\n",
        "\r\n",
        "for ex in range(number_ex):\r\n",
        "  expresion_list = [] #Lista donde se almacenan las expresiones de las soluciones válidas\r\n",
        "  int_list = [] #Lista donde se almanenan los valores enteros de las soluciones válidas\r\n",
        "  oper_list = [\"*\",\"/\",\"+\",\"-\"] #Lista de operadores\r\n",
        "  comb = combinations([1,2,3,4,5,6,7,8,9], 5) #Obtener todas las combinaciones del conjunto numérico Sn = {1,2,3,4,5,6,7,8,9}\r\n",
        "  max_global = -np.inf\r\n",
        "  min_global = np.inf\r\n",
        "  start = timer()\r\n",
        "  expresion_list, int_list, max_global, min_global = backtracking_method_main_2(n,expresion_list, int_list, max_global, min_global,comb)\r\n",
        "  end = timer()\r\n",
        "  time_total_backtracking_2.append([end-start])\r\n",
        "print(\"El tiempo de ejecución medio (+- s.d.) del algoritmo tras \" + str(number_ex) +\" ejecuciones es de \"+str(round(np.mean(time_total_backtracking_2),3))+\" +- \"+ str(round(np.std(time_total_backtracking_2),3)) +\" segundos\")\r\n"
      ],
      "execution_count": 28,
      "outputs": [
        {
          "output_type": "stream",
          "text": [
            "MÉTODO BACKTRACKING 2: RESULTADOS---------------------------------------\n",
            "El espacio de soluciones acotado por las restricciones es de: 90000\n",
            "El valor máximo encontrado es: 77.0\n",
            "El valor mínimo encontrado es: -69.0\n",
            "El tiempo de ejecución medio (+- s.d.) del algoritmo tras 10 ejecuciones es de 4.007 +- 0.038 segundos\n"
          ],
          "name": "stdout"
        }
      ]
    },
    {
      "cell_type": "markdown",
      "metadata": {
        "id": "eGDB4K6uk1iN"
      },
      "source": [
        "**(*)Calcula la complejidad del algoritmo** "
      ]
    },
    {
      "cell_type": "markdown",
      "metadata": {
        "id": "NhpTh_BPk1ms"
      },
      "source": [
        "La complejidad del algoritmo basado en backtracking tiene la misma complejidad que el de fuerza bruta, en este caso $O(n!)$, siendo n = 9 en referencia a la caradinalidad del conjunto numérico usado. "
      ]
    },
    {
      "cell_type": "markdown",
      "metadata": {
        "id": "3M6QjTsSkmYe"
      },
      "source": [
        "**Según el problema (y tenga sentido), diseña un juego de datos de entrada aleatorios**"
      ]
    },
    {
      "cell_type": "markdown",
      "metadata": {
        "id": "Jc3_OlyNkvjZ"
      },
      "source": [
        "Función que proporciona un set de entrada aleatorio de números enteros, en los que se indica el rango y la cardinalidad del conjunto"
      ]
    },
    {
      "cell_type": "code",
      "metadata": {
        "id": "sJ-N2etjkyWc"
      },
      "source": [
        "#Función que proporciona un juego de datos de entrada aleatorios\r\n",
        "def random_input(low_value,high_value,cardinality):\r\n",
        "  num_list = [] #Conjunto numérico de entrada\r\n",
        "  while len(num_list) < cardinality:\r\n",
        "    if len(num_list) > 1:\r\n",
        "      item = random.randint(low_value,high_value)\r\n",
        "      if item not in num_list:\r\n",
        "            num_list.append(item)\r\n",
        "    else:\r\n",
        "      num_list.append(random.randint(low_value,high_value))\r\n",
        "  return num_list"
      ],
      "execution_count": 17,
      "outputs": []
    },
    {
      "cell_type": "markdown",
      "metadata": {
        "id": "zy5ZROmjlGo1"
      },
      "source": [
        "**Aplica el algoritmo al juego de datos generado**"
      ]
    },
    {
      "cell_type": "code",
      "metadata": {
        "id": "Jkx8GeiYlUz1",
        "colab": {
          "base_uri": "https://localhost:8080/"
        },
        "outputId": "48aa3abb-8cc4-4dcb-ac93-da98d61ad4bd"
      },
      "source": [
        "#Generación del juego de entrada pseudoaleatorio\r\n",
        "low_value = 1\r\n",
        "high_value = 20\r\n",
        "cardinality = 12\r\n",
        "num_list = random_input(low_value,high_value,cardinality)\r\n",
        "num_list.sort()\r\n",
        "print(\"El conjunto numérico generado de forma pseudoaleatoria es: \"+str(num_list))\r\n",
        "\r\n",
        "#Llamada a la función principal usando el método\r\n",
        "string_type = \"1/2*3-4+5\"\r\n",
        "n = len(string_type) \r\n",
        "expresion_list = [] #Lista donde se almacenan las expresiones de las soluciones válidas\r\n",
        "int_list = [] #Lista donde se almanenan los valores enteros de las soluciones válidas\r\n",
        "oper_list = [\"*\",\"/\",\"+\",\"-\"] #Lista de operadores\r\n",
        "comb = combinations(num_list, 5) #Obtener todas las combinaciones del conjunto numérico Sn = {1,2,3,4,5,6,7,8,9}\r\n",
        "max_global = -np.inf\r\n",
        "min_global = np.inf\r\n",
        "expresion_list, int_list, max_global, min_global = backtracking_method_main_1(n,expresion_list, int_list, max_global, min_global,comb)\r\n",
        "\r\n",
        "#Impresión de resultados\r\n",
        "print(\"MÉTODO BACKTRACKING 1: RESULTADOS---------------------------------------\")\r\n",
        "print(\"El espacio de soluciones acotado por las restricciones es de: \"+ str(len(expresion_list)))\r\n",
        "print(\"El valor máximo encontrado es: \" + str(max_global))\r\n",
        "print(\"El valor mínimo encontrado es: \" + str(min_global))\r\n",
        "\r\n",
        "#Tiempo de ejecución tras n ejecuciones\r\n",
        "number_ex = 10\r\n",
        "time_total_backtracking_1 = []\r\n",
        "for ex in range(number_ex):\r\n",
        "  expresion_list = [] #Lista donde se almacenan las expresiones de las soluciones válidas\r\n",
        "  int_list = [] #Lista donde se almanenan los valores enteros de las soluciones válidas\r\n",
        "  oper_list = [\"*\",\"/\",\"+\",\"-\"] #Lista de operadores\r\n",
        "  comb = combinations(num_list, 5) #Obtener todas las combinaciones del conjunto numérico Sn = {1,2,3,4,5,6,7,8,9}\r\n",
        "  max_global = -np.inf\r\n",
        "  min_global = np.inf\r\n",
        "  start = timer()\r\n",
        "  expresion_list, int_list, max_global, min_global = backtracking_method_main_1(n,expresion_list, int_list, max_global, min_global, comb)\r\n",
        "  end = timer()\r\n",
        "  time_total_backtracking_1.append([end-start])\r\n",
        "print(\"El tiempo de ejecución medio (+- s.d.) del algoritmo tras \" + str(number_ex) +\" ejecuciones es de \"+str(round(np.mean(time_total_backtracking_1),3))+\" +- \"+ str(round(np.std(time_total_backtracking_1),3)) +\" segundos\")\r\n"
      ],
      "execution_count": 38,
      "outputs": [
        {
          "output_type": "stream",
          "text": [
            "El conjunto numérico generado de forma pseudoaleatoria es: [2, 3, 4, 5, 6, 7, 10, 11, 12, 14, 16, 17]\n",
            "MÉTODO BACKTRACKING 1: RESULTADOS---------------------------------------\n",
            "El espacio de soluciones acotado por las restricciones es de: 361152\n",
            "El valor máximo encontrado es: 284.0\n",
            "El valor mínimo encontrado es: -268.0\n",
            "El tiempo de ejecución medio (+- s.d.) del algoritmo tras 10 ejecuciones es de 27.251 +- 0.075 segundos\n"
          ],
          "name": "stdout"
        }
      ]
    },
    {
      "cell_type": "code",
      "metadata": {
        "colab": {
          "base_uri": "https://localhost:8080/"
        },
        "id": "LLLurVlwvp7b",
        "outputId": "5629b5d9-48f0-47b1-e270-8fc9a2933af1"
      },
      "source": [
        "#Generación del juego de entrada pseudoaleatorio\r\n",
        "# low_value = 1\r\n",
        "# high_value = 20\r\n",
        "# cardinality = 10\r\n",
        "# num_list = random_input(low_value,high_value,cardinality)\r\n",
        "# num_list.sort()\r\n",
        "# print(\"El conjunto numérico generado de forma pseudoaleatoria es: \"+str(num_list))\r\n",
        "\r\n",
        "#Ejecución del programa principal\r\n",
        "sign_list = [\"+\",\"-\",\"*\",\"/\"]\r\n",
        "expresion_list, int_list, max_global, min_global = fuerza_bruta_2(num_list,sign_list)\r\n",
        "\r\n",
        "#Resultados\r\n",
        "print(\"FUERZA BRUTA MÉTODO 2: RESULTADOS---------------------------------------\")\r\n",
        "print(\"El conjunto numérico generado de forma pseudoaleatoria es: \"+str(num_list))\r\n",
        "print(\"El espacio de soluciones acotado por las restricciones es de: \"+ str(len(expresion_list)))\r\n",
        "print(\"El valor máximo encontrado es: \" + str(max_global))\r\n",
        "print(\"El valor mínimo encontrado es: \" + str(min_global))\r\n",
        "\r\n",
        "#Tiempo de ejecución tras n ejecuciones\r\n",
        "number_ex = 10\r\n",
        "time_total_brute_2 = []\r\n",
        "for ex in range(number_ex):\r\n",
        "  start = timer()\r\n",
        "  expresion_list, int_list, max_global, min_global = fuerza_bruta_2(num_list,sign_list)\r\n",
        "  end = timer()\r\n",
        "  time_total_brute_2.append([end-start])\r\n",
        "print(\"El tiempo de ejecución medio (+- s.d.) del algoritmo tras \" + str(number_ex) +\" ejecuciones es de \"+str(round(np.mean(time_total_brute_2),3))+\" +- \"+ str(round(np.std(time_total_brute_2),3)) +\" segundos\")"
      ],
      "execution_count": 42,
      "outputs": [
        {
          "output_type": "stream",
          "text": [
            "FUERZA BRUTA MÉTODO 2: RESULTADOS---------------------------------------\n",
            "El conjunto numérico generado de forma pseudoaleatoria es: [2, 3, 4, 5, 6, 7, 10, 11, 12, 14, 16, 17]\n",
            "El espacio de soluciones acotado por las restricciones es de: 361152\n",
            "El valor máximo encontrado es: 284.0\n",
            "El valor mínimo encontrado es: -268.0\n",
            "El tiempo de ejecución medio (+- s.d.) del algoritmo tras 10 ejecuciones es de 22.965 +- 0.072 segundos\n"
          ],
          "name": "stdout"
        }
      ]
    },
    {
      "cell_type": "markdown",
      "metadata": {
        "id": "eTFWUJQrtGcv"
      },
      "source": [
        "**Enumera las referencias que has utilizado(si ha sido necesario) para llevar a cabo el trabajo**"
      ]
    },
    {
      "cell_type": "markdown",
      "metadata": {
        "id": "YKQ_mRBttWsP"
      },
      "source": [
        "\r\n",
        "\r\n",
        "*   Apuntes de clase\r\n",
        "*   R. Guerequeta, y A, Vallecillo, \"Técnicas de Diseño de Algoritmos\", Servicio de Publicaciones de la Universidad de Málaga,1998 \r\n",
        "*   G. Brassaar, y P. Bratley, \"Fundamentos de algoritmia\", Prentice Hall Iberia, 2006.\r\n",
        "*   https://www.geeksforgeeks.org/backtracking-introduction/\r\n",
        "\r\n",
        "*   https://www.geeksforgeeks.org/python-program-for-n-queen-problem-backtracking-3/\r\n",
        "\r\n",
        "*   https://stackoverflow.com/questions/10544513/\r\n",
        "\r\n",
        "\r\n",
        "\r\n",
        "\r\n",
        "\r\n",
        "\r\n",
        "\r\n",
        "\r\n",
        "\r\n",
        "\r\n"
      ]
    },
    {
      "cell_type": "markdown",
      "metadata": {
        "id": "kAkDPUyRtYyH"
      },
      "source": [
        "**Describe brevemente las lineas de como crees que es posible avanzar en el estudio del problema. Ten en cuenta incluso posibles variaciones del problema y/o variaciones al alza del tamaño**"
      ]
    },
    {
      "cell_type": "markdown",
      "metadata": {
        "id": "IE0uZmo-tZu-"
      },
      "source": [
        "Se han realizado dos algoritmos de fuerza bruta y dos algoritmo basados en backtracking y recursividad.\r\n",
        "\r\n",
        "La comparativa de tiempos de ejecución refleja que con el algoritomo alternativo a la fuerza bruta no se ha conseguido mejorar el rendimiento de este, medido en tiempo. Se pretendió usar este método motivado por su eficiencia de modo que considera el menor conjunto de nodos que contenga todas las soluciones válidas a pesar de descartar soluciones mediante la poda. Sin embargo, las condiciones o restricciones impuestas en la poda para comprobar si un nodo es fracaso o no, no es lo demasiado simple y esta evaluación, que requiere tiempo extra, debería simplificarse aún más.\r\n"
      ]
    },
    {
      "cell_type": "markdown",
      "metadata": {
        "id": "-x2s3VmqYREx"
      },
      "source": [
        "Se realiza una comparativa entre el mejor algoritmo de fuerza bruta y el algoritmo de backtracking, modificando el conjunto numérico de entrada. Se considera el rango de aplicación de $S_n$ = $\\{1,2,3,4,5\\}$ hasta  $S_n$ = $\\{1,2,3,4,5,6,7,8,9,10,11,12,13,14,15\\}$, considerando todos los conjuntos intermedio. Por tanto, la cardinalidad de los conjuntos considerados varía desde 5, hasta 15."
      ]
    },
    {
      "cell_type": "code",
      "metadata": {
        "colab": {
          "base_uri": "https://localhost:8080/"
        },
        "id": "HIJm4pnjtoCM",
        "outputId": "8da01cbc-430a-403d-caaa-393ea4affd42"
      },
      "source": [
        "from timeit import default_timer as timer\r\n",
        "\r\n",
        "time_total_backtracking = []\r\n",
        "string_type = \"1/2*3-4+5\"\r\n",
        "n = len(string_type) \r\n",
        "expresion_list = [] #Lista donde se almacenan las expresiones de las soluciones válidas\r\n",
        "int_list = [] #Lista donde se almanenan los valores enteros de las soluciones válidas\r\n",
        "oper_list = [\"*\",\"/\",\"+\",\"-\"] #Lista de operadores\r\n",
        "max_global = -np.inf\r\n",
        "min_global = np.inf\r\n",
        "for i in range(6,17):\r\n",
        "  start = timer()\r\n",
        "  comb = combinations(list(range(1,i)), 5) #Obtener todas las combinaciones del conjunto numérico Sn = {1,2,3,4,5,6,7,8,9}\r\n",
        "  expresion_list, int_list, max_global, min_global = backtracking_method_main_1(n,expresion_list, int_list, max_global, min_global,comb)\r\n",
        "  end = timer()\r\n",
        "  time_total_backtracking.append([i,end-start])\r\n",
        "print(time_total_backtracking)"
      ],
      "execution_count": 46,
      "outputs": [
        {
          "output_type": "stream",
          "text": [
            "[[6, 0.03760829000020749], [7, 0.21072403400012263], [8, 0.7130926190002356], [9, 1.9219810149998011], [10, 4.438572224999916], [11, 8.985896451999906], [12, 16.175763066999934], [13, 28.20769086600012], [14, 44.60609341300005], [15, 69.65896558199984], [16, 103.96792252599971]]\n"
          ],
          "name": "stdout"
        }
      ]
    },
    {
      "cell_type": "code",
      "metadata": {
        "colab": {
          "base_uri": "https://localhost:8080/"
        },
        "id": "Gw-q4yenslkk",
        "outputId": "a354999c-fee5-4834-f38c-4bb98f8b80c7"
      },
      "source": [
        "from timeit import default_timer as timer\r\n",
        "time_total_fuerza = []\r\n",
        "\r\n",
        "oper_list = [\"*\",\"/\",\"+\",\"-\"] #Lista de operadores\r\n",
        "for i in range(6,17):\r\n",
        "  start = timer()\r\n",
        "  expresion_list, int_list, max_global, min_global = fuerza_bruta_2(list(range(1,i)),oper_list)\r\n",
        "  end = timer()\r\n",
        "  time_total_fuerza.append([i,end-start])\r\n",
        "print(time_total_fuerza)"
      ],
      "execution_count": 45,
      "outputs": [
        {
          "output_type": "stream",
          "text": [
            "[[6, 0.04135296699951141], [7, 0.18593572200006747], [8, 0.5984491179997349], [9, 1.6498551089998728], [10, 3.7133766809993176], [11, 7.295281685999726], [12, 13.597702041000048], [13, 23.207281639999565], [14, 37.427248900999984], [15, 58.088725995999994], [16, 87.04421306900076]]\n"
          ],
          "name": "stdout"
        }
      ]
    },
    {
      "cell_type": "code",
      "metadata": {
        "colab": {
          "base_uri": "https://localhost:8080/",
          "height": 295
        },
        "id": "iSBkG8P26evx",
        "outputId": "11c56b08-51f9-4604-dd12-0fa5d906ee87"
      },
      "source": [
        "import matplotlib.pyplot as plt\r\n",
        "times_backtracking = [item[1] for item in time_total_backtracking]\r\n",
        "times_fuerza = [item[1] for item in time_total_fuerza]\r\n",
        "\r\n",
        "plt.plot(list(range(6,17)),times_backtracking, 'b-', label='Backtracking')\r\n",
        "plt.plot(list(range(6,17)),times_fuerza, 'r-', label='Brute force')\r\n",
        "plt.title('Backtracking vs Brute force')\r\n",
        "plt.ylabel('Cardinality of the input number set')\r\n",
        "plt.xlabel('Execution time (s)')\r\n",
        "plt.legend()\r\n",
        "plt.show()\r\n",
        "\r\n",
        "\r\n"
      ],
      "execution_count": 50,
      "outputs": [
        {
          "output_type": "display_data",
          "data": {
            "image/png": "[encoded data removed]",
            "text/plain": [
              "<Figure size 432x288 with 1 Axes>"
            ]
          },
          "metadata": {
            "tags": [],
            "needs_background": "light"
          }
        }
      ]
    },
    {
      "cell_type": "markdown",
      "metadata": {
        "id": "G2fccVDo4GhM"
      },
      "source": [
        "Se observa, como en ambos métodos conllevan tiempos de ejecución similares; sin embargo, el comportamiento del método basado en fuerza bruta es mejor para todo el rango de entrada. "
      ]
    }
  ]
}